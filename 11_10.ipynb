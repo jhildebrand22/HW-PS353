{
  "nbformat": 4,
  "nbformat_minor": 0,
  "metadata": {
    "colab": {
      "name": "11_10.ipynb",
      "provenance": [],
      "authorship_tag": "ABX9TyMdwTny607vaOx64qzZiSy8",
      "include_colab_link": true
    },
    "kernelspec": {
      "name": "python3",
      "display_name": "Python 3"
    },
    "language_info": {
      "name": "python"
    }
  },
  "cells": [
    {
      "cell_type": "markdown",
      "metadata": {
        "id": "view-in-github",
        "colab_type": "text"
      },
      "source": [
        "<a href=\"https://colab.research.google.com/github/jhildebrand22/HW-PS353/blob/main/11_10.ipynb\" target=\"_parent\"><img src=\"https://colab.research.google.com/assets/colab-badge.svg\" alt=\"Open In Colab\"/></a>"
      ]
    },
    {
      "cell_type": "code",
      "execution_count": null,
      "metadata": {
        "id": "r8P87yIydme0"
      },
      "outputs": [],
      "source": [
        "#pip install whit_phys_util"
      ]
    },
    {
      "cell_type": "code",
      "source": [
        "from sympy import *"
      ],
      "metadata": {
        "id": "1gH-TNBtdrdh"
      },
      "execution_count": 2,
      "outputs": []
    },
    {
      "cell_type": "code",
      "source": [
        "var('A_1 A_2 B_1 B_2 C_1 C_2 beta omega_1 omega_2 omega_3 omega_4 delta_1 delta_2')\n",
        "var('t');"
      ],
      "metadata": {
        "id": "4qWZkH28eHLY"
      },
      "execution_count": 87,
      "outputs": []
    },
    {
      "cell_type": "code",
      "source": [
        "params = {omega_1: 1, omega_2: 3**(1/2), beta: 0.1/2, omega3: sqrt(1**2 - (.1/2)**2), omega_4: sqrt((sqrt(3))**2 - (.1/2)**2), t:0}\n",
        "params2 = {t: 0} "
      ],
      "metadata": {
        "id": "v6PDdA9kmtdU"
      },
      "execution_count": 109,
      "outputs": []
    },
    {
      "cell_type": "code",
      "source": [
        "#x_1 = A_1*exp(-beta*t)*cos(omega_3*t - delta_1) + A_2*exp(-beta*t)*cos(omega_4*t - delta_2)\n",
        "#x_2 = A_1*exp(-beta*t)*cos(omega_3*t - delta_1) - A_2*exp(-beta*t)*cos(omega_4*t - delta_2)\n",
        "#v_1 = diff(x_1, t) #derivatives of solutions to use to get integration constants. \n",
        "#v_2 = diff(x_2, t)\n",
        "\n",
        "x_1 = exp(-beta*t)*(B_1*cos(omega_3*t) + B_2*sin(omega_3*t) + C_1*cos(omega_4*t) + C_2*sin(omega_4*t))\n",
        "x_2 = exp(-beta*t)*(B_1*cos(omega_3*t) + B_2*sin(omega_3*t) - C_1*cos(omega_4*t) + C_2*sin(omega_4*t))\n",
        "v_1 = diff(x_1, t) #derivatives of solutions to use to get integration constants. \n",
        "v_2 = diff(x_2, t)\n",
        "v_1"
      ],
      "metadata": {
        "colab": {
          "base_uri": "https://localhost:8080/",
          "height": 39
        },
        "id": "uH4TJp4mdvn3",
        "outputId": "8c5dc9c8-7446-419c-ab6c-5b910912de44"
      },
      "execution_count": 114,
      "outputs": [
        {
          "output_type": "execute_result",
          "data": {
            "text/latex": "$\\displaystyle - \\beta \\left(B_{1} \\cos{\\left(\\omega_{3} t \\right)} + B_{2} \\sin{\\left(\\omega_{3} t \\right)} + C_{1} \\cos{\\left(\\omega_{4} t \\right)} + C_{2} \\sin{\\left(\\omega_{4} t \\right)}\\right) e^{- \\beta t} + \\left(- B_{1} \\omega_{3} \\sin{\\left(\\omega_{3} t \\right)} + B_{2} \\omega_{3} \\cos{\\left(\\omega_{3} t \\right)} - C_{1} \\omega_{4} \\sin{\\left(\\omega_{4} t \\right)} + C_{2} \\omega_{4} \\cos{\\left(\\omega_{4} t \\right)}\\right) e^{- \\beta t}$",
            "text/plain": [
              "-beta*(B_1*cos(omega_3*t) + B_2*sin(omega_3*t) + C_1*cos(omega_4*t) + C_2*sin(omega_4*t))*exp(-beta*t) + (-B_1*omega_3*sin(omega_3*t) + B_2*omega_3*cos(omega_3*t) - C_1*omega_4*sin(omega_4*t) + C_2*omega_4*cos(omega_4*t))*exp(-beta*t)"
            ]
          },
          "metadata": {},
          "execution_count": 114
        }
      ]
    },
    {
      "cell_type": "code",
      "source": [
        "#initial states\n",
        "x1_0 = x_1.subs(params) - 1\n",
        "x2_0 = x_2.subs(params)\n",
        "v1_0 = v_1.subs(params)\n",
        "v2_0 = v_2.subs(params)\n",
        "print(x1_0)\n",
        "print(x2_0)\n",
        "print(v1_0)\n",
        "print(v2_0)"
      ],
      "metadata": {
        "id": "6Cx7lqyrmd4Z",
        "outputId": "59e3ec0d-f183-47a7-eb05-f645e0cfb619",
        "colab": {
          "base_uri": "https://localhost:8080/"
        }
      },
      "execution_count": 115,
      "outputs": [
        {
          "output_type": "stream",
          "name": "stdout",
          "text": [
            "B_1 + C_1 - 1\n",
            "B_1 - C_1\n",
            "-0.05*B_1 + B_2*omega_3 - 0.05*C_1 + 1.73132896931808*C_2\n",
            "-0.05*B_1 + B_2*omega_3 + 0.05*C_1 + 1.73132896931808*C_2\n"
          ]
        }
      ]
    },
    {
      "cell_type": "code",
      "source": [
        "eqs = [x1_0,x2_0,v1_0,v2_0]"
      ],
      "metadata": {
        "id": "wAUtgUm-pUJs"
      },
      "execution_count": 116,
      "outputs": []
    },
    {
      "cell_type": "code",
      "source": [
        "coeffs = solve(eqs)\n",
        "coeffs"
      ],
      "metadata": {
        "id": "m-BRnZ1XlzC1",
        "outputId": "1e9138f9-1483-4f01-b7a8-4830c18747f9",
        "colab": {
          "base_uri": "https://localhost:8080/",
          "height": 343
        }
      },
      "execution_count": 117,
      "outputs": [
        {
          "output_type": "error",
          "ename": "NotImplementedError",
          "evalue": "ignored",
          "traceback": [
            "\u001b[0;31m---------------------------------------------------------------------------\u001b[0m",
            "\u001b[0;31mNotImplementedError\u001b[0m                       Traceback (most recent call last)",
            "\u001b[0;32m<ipython-input-117-c73a12336c5c>\u001b[0m in \u001b[0;36m<module>\u001b[0;34m()\u001b[0m\n\u001b[0;32m----> 1\u001b[0;31m \u001b[0mcoeffs\u001b[0m \u001b[0;34m=\u001b[0m \u001b[0msolve\u001b[0m\u001b[0;34m(\u001b[0m\u001b[0meqs\u001b[0m\u001b[0;34m)\u001b[0m\u001b[0;34m\u001b[0m\u001b[0;34m\u001b[0m\u001b[0m\n\u001b[0m\u001b[1;32m      2\u001b[0m \u001b[0mcoeffs\u001b[0m\u001b[0;34m\u001b[0m\u001b[0;34m\u001b[0m\u001b[0m\n",
            "\u001b[0;32m/usr/local/lib/python3.7/dist-packages/sympy/solvers/solvers.py\u001b[0m in \u001b[0;36msolve\u001b[0;34m(f, *symbols, **flags)\u001b[0m\n\u001b[1;32m   1097\u001b[0m         \u001b[0msolution\u001b[0m \u001b[0;34m=\u001b[0m \u001b[0m_solve\u001b[0m\u001b[0;34m(\u001b[0m\u001b[0mf\u001b[0m\u001b[0;34m[\u001b[0m\u001b[0;36m0\u001b[0m\u001b[0;34m]\u001b[0m\u001b[0;34m,\u001b[0m \u001b[0;34m*\u001b[0m\u001b[0msymbols\u001b[0m\u001b[0;34m,\u001b[0m \u001b[0;34m**\u001b[0m\u001b[0mflags\u001b[0m\u001b[0;34m)\u001b[0m\u001b[0;34m\u001b[0m\u001b[0;34m\u001b[0m\u001b[0m\n\u001b[1;32m   1098\u001b[0m     \u001b[0;32melse\u001b[0m\u001b[0;34m:\u001b[0m\u001b[0;34m\u001b[0m\u001b[0;34m\u001b[0m\u001b[0m\n\u001b[0;32m-> 1099\u001b[0;31m         \u001b[0msolution\u001b[0m \u001b[0;34m=\u001b[0m \u001b[0m_solve_system\u001b[0m\u001b[0;34m(\u001b[0m\u001b[0mf\u001b[0m\u001b[0;34m,\u001b[0m \u001b[0msymbols\u001b[0m\u001b[0;34m,\u001b[0m \u001b[0;34m**\u001b[0m\u001b[0mflags\u001b[0m\u001b[0;34m)\u001b[0m\u001b[0;34m\u001b[0m\u001b[0;34m\u001b[0m\u001b[0m\n\u001b[0m\u001b[1;32m   1100\u001b[0m \u001b[0;34m\u001b[0m\u001b[0m\n\u001b[1;32m   1101\u001b[0m     \u001b[0;31m#\u001b[0m\u001b[0;34m\u001b[0m\u001b[0;34m\u001b[0m\u001b[0;34m\u001b[0m\u001b[0m\n",
            "\u001b[0;32m/usr/local/lib/python3.7/dist-packages/sympy/solvers/solvers.py\u001b[0m in \u001b[0;36m_solve_system\u001b[0;34m(exprs, symbols, **flags)\u001b[0m\n\u001b[1;32m   1867\u001b[0m                     \u001b[0msolved_syms\u001b[0m \u001b[0;34m=\u001b[0m \u001b[0mlist\u001b[0m\u001b[0;34m(\u001b[0m\u001b[0mgot_s\u001b[0m\u001b[0;34m)\u001b[0m\u001b[0;34m\u001b[0m\u001b[0;34m\u001b[0m\u001b[0m\n\u001b[1;32m   1868\u001b[0m                 \u001b[0;32melse\u001b[0m\u001b[0;34m:\u001b[0m\u001b[0;34m\u001b[0m\u001b[0;34m\u001b[0m\u001b[0m\n\u001b[0;32m-> 1869\u001b[0;31m                     \u001b[0;32mraise\u001b[0m \u001b[0mNotImplementedError\u001b[0m\u001b[0;34m(\u001b[0m\u001b[0;34m'no valid subset found'\u001b[0m\u001b[0;34m)\u001b[0m\u001b[0;34m\u001b[0m\u001b[0;34m\u001b[0m\u001b[0m\n\u001b[0m\u001b[1;32m   1870\u001b[0m             \u001b[0;32melse\u001b[0m\u001b[0;34m:\u001b[0m\u001b[0;34m\u001b[0m\u001b[0;34m\u001b[0m\u001b[0m\n\u001b[1;32m   1871\u001b[0m                 \u001b[0;32mtry\u001b[0m\u001b[0;34m:\u001b[0m\u001b[0;34m\u001b[0m\u001b[0;34m\u001b[0m\u001b[0m\n",
            "\u001b[0;31mNotImplementedError\u001b[0m: no valid subset found"
          ]
        }
      ]
    },
    {
      "cell_type": "code",
      "source": [
        "var('x')\n",
        "f = 2*x + 3*y\n",
        "g = 4*x - 8*y\n",
        "solve([f,g])"
      ],
      "metadata": {
        "id": "NFJBeq7osEu9",
        "outputId": "4a4e0c4e-043f-4d31-dc69-c59838452ce4",
        "colab": {
          "base_uri": "https://localhost:8080/"
        }
      },
      "execution_count": 67,
      "outputs": [
        {
          "output_type": "execute_result",
          "data": {
            "text/plain": [
              "{x: 0, y: 0}"
            ]
          },
          "metadata": {},
          "execution_count": 67
        }
      ]
    },
    {
      "cell_type": "code",
      "source": [
        ""
      ],
      "metadata": {
        "id": "NYeZl3VVvA4R"
      },
      "execution_count": null,
      "outputs": []
    }
  ]
}
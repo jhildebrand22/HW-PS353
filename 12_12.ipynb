{
  "nbformat": 4,
  "nbformat_minor": 0,
  "metadata": {
    "colab": {
      "name": "12_12.ipynb",
      "provenance": [],
      "authorship_tag": "ABX9TyMGnZyxTUjcYnHOxA0I1+UW",
      "include_colab_link": true
    },
    "kernelspec": {
      "name": "python3",
      "display_name": "Python 3"
    },
    "language_info": {
      "name": "python"
    }
  },
  "cells": [
    {
      "cell_type": "markdown",
      "metadata": {
        "id": "view-in-github",
        "colab_type": "text"
      },
      "source": [
        "<a href=\"https://colab.research.google.com/github/jhildebrand22/HW-PS353/blob/main/12_12.ipynb\" target=\"_parent\"><img src=\"https://colab.research.google.com/assets/colab-badge.svg\" alt=\"Open In Colab\"/></a>"
      ]
    },
    {
      "cell_type": "code",
      "source": [
        "!pip install whit_phys_util"
      ],
      "metadata": {
        "colab": {
          "base_uri": "https://localhost:8080/"
        },
        "id": "JjufqhARon9R",
        "outputId": "e23ef1d3-ba18-4b42-9c97-ac54c5283b54"
      },
      "execution_count": 1,
      "outputs": [
        {
          "output_type": "stream",
          "name": "stdout",
          "text": [
            "Collecting whit_phys_util\n",
            "  Downloading whit_phys_util-0.2.7-py3-none-any.whl (11 kB)\n",
            "Collecting python-dotenv>=0.10.4\n",
            "  Downloading python_dotenv-0.19.2-py2.py3-none-any.whl (17 kB)\n",
            "Collecting pydantic>=1.7.3\n",
            "  Downloading pydantic-1.9.0-cp37-cp37m-manylinux_2_17_x86_64.manylinux2014_x86_64.whl (10.9 MB)\n",
            "\u001b[K     |████████████████████████████████| 10.9 MB 8.8 MB/s \n",
            "\u001b[?25hRequirement already satisfied: typing-extensions>=3.7.4.3 in /usr/local/lib/python3.7/dist-packages (from pydantic>=1.7.3->whit_phys_util) (3.10.0.2)\n",
            "Installing collected packages: python-dotenv, pydantic, whit-phys-util\n",
            "Successfully installed pydantic-1.9.0 python-dotenv-0.19.2 whit-phys-util-0.2.7\n"
          ]
        }
      ]
    },
    {
      "cell_type": "code",
      "execution_count": 2,
      "metadata": {
        "colab": {
          "base_uri": "https://localhost:8080/"
        },
        "id": "q3Xudpduhepk",
        "outputId": "a653c381-a424-4474-b08a-49a3979dd864"
      },
      "outputs": [
        {
          "output_type": "stream",
          "name": "stdout",
          "text": [
            "Mounted at /content/drive\n"
          ]
        }
      ],
      "source": [
        "import numpy as np\n",
        "import matplotlib.pyplot as plt\n",
        "import pandas as pd\n",
        "import whit_phys_util as buc"
      ]
    },
    {
      "cell_type": "code",
      "source": [
        "repo = buc.local_repository('https://github.com/jhildebrand22/HW-PS353')"
      ],
      "metadata": {
        "id": "SmzXIOf3uPqS",
        "outputId": "fbe052d2-276c-492a-febe-29c1a2222780",
        "colab": {
          "base_uri": "https://localhost:8080/"
        }
      },
      "execution_count": 3,
      "outputs": [
        {
          "output_type": "stream",
          "name": "stdout",
          "text": [
            "Cloning repository from GitHub.\n"
          ]
        }
      ]
    },
    {
      "cell_type": "markdown",
      "source": [
        "# Problem 12.12"
      ],
      "metadata": {
        "id": "T3yOvrzDiQUl"
      }
    },
    {
      "cell_type": "markdown",
      "source": [
        "Feigenbaum relation \n",
        "> $$(\\gamma_{n+1} - \\gamma_n) = \\frac{1}{\\delta}(\\gamma_n - \\gamma_{n-1})$$"
      ],
      "metadata": {
        "id": "uwEk5jgliTvf"
      }
    },
    {
      "cell_type": "markdown",
      "source": [
        "$$\\gamma_n = \\gamma_c - \\frac{K}{\\delta^n}$$"
      ],
      "metadata": {
        "id": "n10N7Bg_khpj"
      }
    },
    {
      "cell_type": "code",
      "source": [
        "delta = 4.6692016\n",
        "gamma_c = 1.0829\n",
        "gamma_n = [1.0663, 1.0793, 1.0821, 1.0827]\n",
        "n = [-1,-2,-3,-4]\n",
        "df = pd.DataFrame()\n",
        "df['gamma'] = gamma_n\n",
        "df['n'] = n\n",
        "df['delta'] = delta**df['n']"
      ],
      "metadata": {
        "id": "EGVidCxriP3K"
      },
      "execution_count": 4,
      "outputs": []
    },
    {
      "cell_type": "code",
      "source": [
        "fitTable, fitFunc = buc.prettyPolyFit(df['delta'], df['gamma'])\n",
        "fitTable"
      ],
      "metadata": {
        "colab": {
          "base_uri": "https://localhost:8080/",
          "height": 112
        },
        "id": "133rWae1oirD",
        "outputId": "005b8d74-a5c7-4944-f4c1-e733cbed6ad2"
      },
      "execution_count": 5,
      "outputs": [
        {
          "output_type": "execute_result",
          "data": {
            "text/plain": [
              "                slope  intercept\n",
              "value       -0.077317   1.082857\n",
              "uncertainty  0.000102   0.000011"
            ],
            "text/html": [
              "\n",
              "  <div id=\"df-ec616a47-9919-4aa2-a5a8-8c4b5fa6f96d\">\n",
              "    <div class=\"colab-df-container\">\n",
              "      <div>\n",
              "<style scoped>\n",
              "    .dataframe tbody tr th:only-of-type {\n",
              "        vertical-align: middle;\n",
              "    }\n",
              "\n",
              "    .dataframe tbody tr th {\n",
              "        vertical-align: top;\n",
              "    }\n",
              "\n",
              "    .dataframe thead th {\n",
              "        text-align: right;\n",
              "    }\n",
              "</style>\n",
              "<table border=\"1\" class=\"dataframe\">\n",
              "  <thead>\n",
              "    <tr style=\"text-align: right;\">\n",
              "      <th></th>\n",
              "      <th>slope</th>\n",
              "      <th>intercept</th>\n",
              "    </tr>\n",
              "  </thead>\n",
              "  <tbody>\n",
              "    <tr>\n",
              "      <th>value</th>\n",
              "      <td>-0.077317</td>\n",
              "      <td>1.082857</td>\n",
              "    </tr>\n",
              "    <tr>\n",
              "      <th>uncertainty</th>\n",
              "      <td>0.000102</td>\n",
              "      <td>0.000011</td>\n",
              "    </tr>\n",
              "  </tbody>\n",
              "</table>\n",
              "</div>\n",
              "      <button class=\"colab-df-convert\" onclick=\"convertToInteractive('df-ec616a47-9919-4aa2-a5a8-8c4b5fa6f96d')\"\n",
              "              title=\"Convert this dataframe to an interactive table.\"\n",
              "              style=\"display:none;\">\n",
              "        \n",
              "  <svg xmlns=\"http://www.w3.org/2000/svg\" height=\"24px\"viewBox=\"0 0 24 24\"\n",
              "       width=\"24px\">\n",
              "    <path d=\"M0 0h24v24H0V0z\" fill=\"none\"/>\n",
              "    <path d=\"M18.56 5.44l.94 2.06.94-2.06 2.06-.94-2.06-.94-.94-2.06-.94 2.06-2.06.94zm-11 1L8.5 8.5l.94-2.06 2.06-.94-2.06-.94L8.5 2.5l-.94 2.06-2.06.94zm10 10l.94 2.06.94-2.06 2.06-.94-2.06-.94-.94-2.06-.94 2.06-2.06.94z\"/><path d=\"M17.41 7.96l-1.37-1.37c-.4-.4-.92-.59-1.43-.59-.52 0-1.04.2-1.43.59L10.3 9.45l-7.72 7.72c-.78.78-.78 2.05 0 2.83L4 21.41c.39.39.9.59 1.41.59.51 0 1.02-.2 1.41-.59l7.78-7.78 2.81-2.81c.8-.78.8-2.07 0-2.86zM5.41 20L4 18.59l7.72-7.72 1.47 1.35L5.41 20z\"/>\n",
              "  </svg>\n",
              "      </button>\n",
              "      \n",
              "  <style>\n",
              "    .colab-df-container {\n",
              "      display:flex;\n",
              "      flex-wrap:wrap;\n",
              "      gap: 12px;\n",
              "    }\n",
              "\n",
              "    .colab-df-convert {\n",
              "      background-color: #E8F0FE;\n",
              "      border: none;\n",
              "      border-radius: 50%;\n",
              "      cursor: pointer;\n",
              "      display: none;\n",
              "      fill: #1967D2;\n",
              "      height: 32px;\n",
              "      padding: 0 0 0 0;\n",
              "      width: 32px;\n",
              "    }\n",
              "\n",
              "    .colab-df-convert:hover {\n",
              "      background-color: #E2EBFA;\n",
              "      box-shadow: 0px 1px 2px rgba(60, 64, 67, 0.3), 0px 1px 3px 1px rgba(60, 64, 67, 0.15);\n",
              "      fill: #174EA6;\n",
              "    }\n",
              "\n",
              "    [theme=dark] .colab-df-convert {\n",
              "      background-color: #3B4455;\n",
              "      fill: #D2E3FC;\n",
              "    }\n",
              "\n",
              "    [theme=dark] .colab-df-convert:hover {\n",
              "      background-color: #434B5C;\n",
              "      box-shadow: 0px 1px 3px 1px rgba(0, 0, 0, 0.15);\n",
              "      filter: drop-shadow(0px 1px 2px rgba(0, 0, 0, 0.3));\n",
              "      fill: #FFFFFF;\n",
              "    }\n",
              "  </style>\n",
              "\n",
              "      <script>\n",
              "        const buttonEl =\n",
              "          document.querySelector('#df-ec616a47-9919-4aa2-a5a8-8c4b5fa6f96d button.colab-df-convert');\n",
              "        buttonEl.style.display =\n",
              "          google.colab.kernel.accessAllowed ? 'block' : 'none';\n",
              "\n",
              "        async function convertToInteractive(key) {\n",
              "          const element = document.querySelector('#df-ec616a47-9919-4aa2-a5a8-8c4b5fa6f96d');\n",
              "          const dataTable =\n",
              "            await google.colab.kernel.invokeFunction('convertToInteractive',\n",
              "                                                     [key], {});\n",
              "          if (!dataTable) return;\n",
              "\n",
              "          const docLinkHtml = 'Like what you see? Visit the ' +\n",
              "            '<a target=\"_blank\" href=https://colab.research.google.com/notebooks/data_table.ipynb>data table notebook</a>'\n",
              "            + ' to learn more about interactive tables.';\n",
              "          element.innerHTML = '';\n",
              "          dataTable['output_type'] = 'display_data';\n",
              "          await google.colab.output.renderOutput(dataTable, element);\n",
              "          const docLink = document.createElement('div');\n",
              "          docLink.innerHTML = docLinkHtml;\n",
              "          element.appendChild(docLink);\n",
              "        }\n",
              "      </script>\n",
              "    </div>\n",
              "  </div>\n",
              "  "
            ]
          },
          "metadata": {},
          "execution_count": 5
        }
      ]
    },
    {
      "cell_type": "code",
      "source": [
        "fig, ax = plt.subplots()\n",
        "ax.plot(df['delta'], df['gamma'],'o')\n",
        "ax.set_xlabel('$\\delta^{-n}$')\n",
        "ax.set_ylabel('$\\gamma_n$');\n",
        "\n",
        "t_fit = np.linspace(min(df['delta']),max(df['delta']),2);\n",
        "ax.plot(t_fit, fitFunc(t_fit));"
      ],
      "metadata": {
        "colab": {
          "base_uri": "https://localhost:8080/",
          "height": 282
        },
        "id": "sWA5S3a1ltGw",
        "outputId": "76b1a34c-e8a0-44ac-d2d1-423854eb5371"
      },
      "execution_count": 6,
      "outputs": [
        {
          "output_type": "display_data",
          "data": {
            "text/plain": [
              "<Figure size 432x288 with 1 Axes>"
            ],
            "image/png": "[encoded data removed]"
          },
          "metadata": {
            "needs_background": "light"
          }
        }
      ]
    },
    {
      "cell_type": "code",
      "source": [
        "print(f\"The value of K for the DDP is ({fitTable['slope']['value']:.6f} ± {fitTable['slope']['uncertainty']:.6f})\")\n",
        "print(f\"The value of gamma_c for the DDP is ({fitTable['intercept']['value']:.7f} ± {fitTable['intercept']['uncertainty']:.7f})\")"
      ],
      "metadata": {
        "colab": {
          "base_uri": "https://localhost:8080/"
        },
        "id": "9fNcYK1TmSHg",
        "outputId": "d791f6a5-05cf-41c4-c153-4d7eb17cb164"
      },
      "execution_count": 7,
      "outputs": [
        {
          "output_type": "stream",
          "name": "stdout",
          "text": [
            "The value of K for the DDP is (-0.077317 ± 0.000102)\n",
            "The value of gamma_c for the DDP is (1.0828569 ± 0.0000112)\n"
          ]
        }
      ]
    },
    {
      "cell_type": "code",
      "source": [
        "gamma_g = fitTable['intercept']['value']\n",
        "g_err = ((gamma_c - gamma_g)/(gamma_c)) * 100\n",
        "print(f\"The percent error between my gamma c and the gamma c from EQ 12.20 is {g_err:.4} \")"
      ],
      "metadata": {
        "colab": {
          "base_uri": "https://localhost:8080/"
        },
        "id": "npmMc2hdpOGK",
        "outputId": "80b93339-6052-4dd5-be78-307aafe57bbb"
      },
      "execution_count": 8,
      "outputs": [
        {
          "output_type": "stream",
          "name": "stdout",
          "text": [
            "The percent error between my gamma c and the gamma c from EQ 12.20 is 0.00398 \n"
          ]
        }
      ]
    },
    {
      "cell_type": "code",
      "source": [
        ""
      ],
      "metadata": {
        "id": "nzaYVgtRrMD5"
      },
      "execution_count": 8,
      "outputs": []
    }
  ]
}
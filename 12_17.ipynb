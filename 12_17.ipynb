{
  "nbformat": 4,
  "nbformat_minor": 0,
  "metadata": {
    "colab": {
      "name": "12_17.ipynb",
      "provenance": [],
      "authorship_tag": "ABX9TyNKmEW71g28Alqv+jnPiBKp",
      "include_colab_link": true
    },
    "kernelspec": {
      "name": "python3",
      "display_name": "Python 3"
    },
    "language_info": {
      "name": "python"
    }
  },
  "cells": [
    {
      "cell_type": "markdown",
      "metadata": {
        "id": "view-in-github",
        "colab_type": "text"
      },
      "source": [
        "<a href=\"https://colab.research.google.com/github/jhildebrand22/HW-PS353/blob/main/12_17.ipynb\" target=\"_parent\"><img src=\"https://colab.research.google.com/assets/colab-badge.svg\" alt=\"Open In Colab\"/></a>"
      ]
    },
    {
      "cell_type": "code",
      "execution_count": 2,
      "metadata": {
        "id": "UYDgnWJuQS5D",
        "colab": {
          "base_uri": "https://localhost:8080/"
        },
        "outputId": "64caf1d4-9b54-4256-8da6-fe96c6ef5791"
      },
      "outputs": [
        {
          "output_type": "stream",
          "name": "stdout",
          "text": [
            "Collecting whit_phys_util\n",
            "  Downloading whit_phys_util-0.2.7-py3-none-any.whl (11 kB)\n",
            "Collecting pydantic>=1.7.3\n",
            "  Downloading pydantic-1.9.0-cp37-cp37m-manylinux_2_17_x86_64.manylinux2014_x86_64.whl (10.9 MB)\n",
            "\u001b[K     |████████████████████████████████| 10.9 MB 27.9 MB/s \n",
            "\u001b[?25hCollecting python-dotenv>=0.10.4\n",
            "  Downloading python_dotenv-0.19.2-py2.py3-none-any.whl (17 kB)\n",
            "Requirement already satisfied: typing-extensions>=3.7.4.3 in /usr/local/lib/python3.7/dist-packages (from pydantic>=1.7.3->whit_phys_util) (3.10.0.2)\n",
            "Installing collected packages: python-dotenv, pydantic, whit-phys-util\n",
            "Successfully installed pydantic-1.9.0 python-dotenv-0.19.2 whit-phys-util-0.2.7\n"
          ]
        }
      ],
      "source": [
        "!pip install whit_phys_util"
      ]
    },
    {
      "cell_type": "code",
      "source": [
        "from scipy.integrate import solve_ivp\n",
        "import numpy as np\n",
        "import matplotlib.pyplot as plt\n",
        "import whit_phys_util as buc"
      ],
      "metadata": {
        "id": "aV6ylAN3QXuq",
        "colab": {
          "base_uri": "https://localhost:8080/"
        },
        "outputId": "a7fadf2b-16f9-4af3-b905-812a9939acff"
      },
      "execution_count": 3,
      "outputs": [
        {
          "output_type": "stream",
          "name": "stdout",
          "text": [
            "Mounted at /content/drive\n"
          ]
        }
      ]
    },
    {
      "cell_type": "code",
      "source": [
        "repo = buc.local_repository('https://github.com/jhildebrand22/HW-PS353')"
      ],
      "metadata": {
        "colab": {
          "base_uri": "https://localhost:8080/"
        },
        "id": "O_bVYSA7XcRy",
        "outputId": "dbc380e9-1e81-47c4-a745-52d6cabc6638"
      },
      "execution_count": 4,
      "outputs": [
        {
          "output_type": "stream",
          "name": "stdout",
          "text": [
            "Cloning repository from GitHub.\n"
          ]
        }
      ]
    },
    {
      "cell_type": "markdown",
      "source": [
        "$$\n",
        "\\ddot\\phi + 2\\beta\\dot\\phi +\\omega_0^2\\sin\\phi = \\gamma\\omega_0^2\\cos\\omega t\n",
        "$$"
      ],
      "metadata": {
        "id": "lLRV0ej7QmEy"
      }
    },
    {
      "cell_type": "code",
      "source": [
        "#given params \n",
        "gam = 1.3\n",
        "omega = 2*np.pi\n",
        "omega_0 = 1.5*omega\n",
        "beta = omega_0/4 \n",
        "\n",
        "phi0_1 = [0,0]\n",
        "phi0_2 = [0.00001,0]"
      ],
      "metadata": {
        "id": "-2V_WzloQfiB"
      },
      "execution_count": 5,
      "outputs": []
    },
    {
      "cell_type": "code",
      "source": [
        "def dwdt(t,w):\n",
        "  phi = w[0]\n",
        "  phi_dot = w[1]\n",
        "  phi_ddot = -2*beta*phi_dot - omega_0**2*np.sin(phi) + gam*omega_0**2*np.cos(omega*t)\n",
        "  return[phi_dot, phi_ddot] "
      ],
      "metadata": {
        "id": "U41piRkORbDm"
      },
      "execution_count": 6,
      "outputs": []
    },
    {
      "cell_type": "code",
      "source": [
        "t = np.linspace(0,8,500)\n",
        "tspan = [0,8]"
      ],
      "metadata": {
        "id": "QocRkXoGTF3o"
      },
      "execution_count": 11,
      "outputs": []
    },
    {
      "cell_type": "code",
      "source": [
        "sol1 = solve_ivp(dwdt,tspan,phi0_1,t_eval=t,rtol = 1e-12)\n",
        "#sol2 = solve_ivp(dwdt,tspan,phi0_2,t_eval=t,rtol = 1e-12)\n",
        "#dphi = np.log10(abs(sol2.y[0] - sol1.y[0]))"
      ],
      "metadata": {
        "id": "ozqBaNPtTQ3G"
      },
      "execution_count": 12,
      "outputs": []
    },
    {
      "cell_type": "code",
      "source": [
        "fig, ax = plt.subplots(2, figsize=(5,7))\n",
        "ax[0].plot(sol1.t,sol1.y[0],label='$\\phi_1$')\n",
        "ax[0].set_ylabel('$\\phi_1(t)$');\n",
        "ax[1].plot(sol1.t, sol1.y[0] + 2*np.pi*sol1.t, label='$\\phi_1(t) + 2\\pi t$')\n",
        "ax[1].set_ylabel('$\\phi_1(t) + 2\\pi t$');\n",
        "ax[1].set_xlabel('t')\n",
        "ax[0].legend()\n",
        "ax[1].legend();"
      ],
      "metadata": {
        "colab": {
          "base_uri": "https://localhost:8080/",
          "height": 442
        },
        "id": "DNba9CsdNOcj",
        "outputId": "998b51e4-ece0-4ae3-cf97-0847fb4dd9d2"
      },
      "execution_count": 21,
      "outputs": [
        {
          "output_type": "display_data",
          "data": {
            "text/plain": [
              "<Figure size 360x504 with 2 Axes>"
            ],
            "image/png": "[encoded data removed]"
          },
          "metadata": {
            "needs_background": "light"
          }
        }
      ]
    },
    {
      "cell_type": "markdown",
      "source": [
        "Along with the gradual decrase in angle as demonstrated in the first plot, there are bumps that demonstrate the periodicity in the motion. Once we plot the phase-locked solution we can very clearly see the periodic motion since we are incorporating the decrease in deflection per period. "
      ],
      "metadata": {
        "id": "r9msqdN5PDRF"
      }
    },
    {
      "cell_type": "code",
      "source": [
        ""
      ],
      "metadata": {
        "id": "f8jW64o7OMXH"
      },
      "execution_count": null,
      "outputs": []
    }
  ]
}
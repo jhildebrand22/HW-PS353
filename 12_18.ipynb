{
  "nbformat": 4,
  "nbformat_minor": 0,
  "metadata": {
    "colab": {
      "name": "12_18.ipynb",
      "provenance": [],
      "authorship_tag": "ABX9TyOkJkUxpg62mlyrdvtF9awu",
      "include_colab_link": true
    },
    "kernelspec": {
      "name": "python3",
      "display_name": "Python 3"
    },
    "language_info": {
      "name": "python"
    }
  },
  "cells": [
    {
      "cell_type": "markdown",
      "metadata": {
        "id": "view-in-github",
        "colab_type": "text"
      },
      "source": [
        "<a href=\"https://colab.research.google.com/github/jhildebrand22/HW-PS353/blob/main/12_18.ipynb\" target=\"_parent\"><img src=\"https://colab.research.google.com/assets/colab-badge.svg\" alt=\"Open In Colab\"/></a>"
      ]
    },
    {
      "cell_type": "code",
      "execution_count": 47,
      "metadata": {
        "colab": {
          "base_uri": "https://localhost:8080/"
        },
        "outputId": "bc0ad522-a8ab-4684-cf48-02656f789985",
        "id": "-Nay4MN3Cs4x"
      },
      "outputs": [
        {
          "output_type": "stream",
          "name": "stdout",
          "text": [
            "Requirement already satisfied: whit_phys_util in /usr/local/lib/python3.7/dist-packages (0.2.7)\n",
            "Requirement already satisfied: python-dotenv>=0.10.4 in /usr/local/lib/python3.7/dist-packages (from whit_phys_util) (0.19.2)\n",
            "Requirement already satisfied: pydantic>=1.7.3 in /usr/local/lib/python3.7/dist-packages (from whit_phys_util) (1.9.0)\n",
            "Requirement already satisfied: typing-extensions>=3.7.4.3 in /usr/local/lib/python3.7/dist-packages (from pydantic>=1.7.3->whit_phys_util) (3.10.0.2)\n"
          ]
        }
      ],
      "source": [
        "!pip install whit_phys_util"
      ]
    },
    {
      "cell_type": "code",
      "source": [
        "from scipy.integrate import solve_ivp\n",
        "import numpy as np\n",
        "import matplotlib.pyplot as plt\n",
        "import whit_phys_util as buc"
      ],
      "metadata": {
        "id": "Zz2Un4TPCs4y"
      },
      "execution_count": 48,
      "outputs": []
    },
    {
      "cell_type": "code",
      "source": [
        "repo = buc.local_repository('https://github.com/jhildebrand22/HW-PS353')"
      ],
      "metadata": {
        "colab": {
          "base_uri": "https://localhost:8080/"
        },
        "outputId": "b61d8e4f-f636-4895-b019-390ced7bbed3",
        "id": "KQPyVClyCs4z"
      },
      "execution_count": 49,
      "outputs": [
        {
          "output_type": "stream",
          "name": "stdout",
          "text": [
            "Repository exists at this location. Pulling changes from GitHub.\n"
          ]
        }
      ]
    },
    {
      "cell_type": "markdown",
      "source": [
        "$$\n",
        "\\ddot\\phi + 2\\beta\\dot\\phi +\\omega_0^2\\sin\\phi = \\gamma\\omega_0^2\\cos\\omega t\n",
        "$$"
      ],
      "metadata": {
        "id": "U-CkmHwVCs4z"
      }
    },
    {
      "cell_type": "code",
      "source": [
        "#given params \n",
        "gam = 1.3\n",
        "omega = 2*np.pi\n",
        "omega_0 = 1.5*omega\n",
        "beta = omega_0/4 \n",
        "\n",
        "phi0_1 = [0,0]\n",
        "phi0_2 = [1,0]"
      ],
      "metadata": {
        "id": "2CtAY5dWCs40"
      },
      "execution_count": 50,
      "outputs": []
    },
    {
      "cell_type": "code",
      "source": [
        "def dwdt(t,w):\n",
        "  phi = w[0]\n",
        "  phi_dot = w[1]\n",
        "  phi_ddot = -2*beta*phi_dot - omega_0**2*np.sin(phi) + gam*omega_0**2*np.cos(omega*t)\n",
        "  return[phi_dot, phi_ddot] "
      ],
      "metadata": {
        "id": "vqyp_2H3Cs40"
      },
      "execution_count": 51,
      "outputs": []
    },
    {
      "cell_type": "code",
      "source": [
        "t = np.linspace(0,8,500)\n",
        "tspan = [0,8]"
      ],
      "metadata": {
        "id": "xNIxmzVvCs41"
      },
      "execution_count": 52,
      "outputs": []
    },
    {
      "cell_type": "code",
      "source": [
        "sol1 = solve_ivp(dwdt,tspan,phi0_1,t_eval=t,rtol = 1e-12)\n",
        "sol2 = solve_ivp(dwdt,tspan,phi0_2,t_eval=t,rtol = 1e-12)\n",
        "dphi = np.log10(abs(sol2.y[0] - sol1.y[0]))"
      ],
      "metadata": {
        "id": "LC5nYn1kCs41"
      },
      "execution_count": 53,
      "outputs": []
    },
    {
      "cell_type": "code",
      "source": [
        "fig, ax = plt.subplots(2, figsize=(5,7))\n",
        "ax[0].plot(sol1.t,sol1.y[0],label='$\\phi_1$')\n",
        "ax[0].plot(sol1.t,sol2.y[0],label='$\\phi_2$')\n",
        "ax[0].set_ylabel('$\\phi(t)$');\n",
        "ax[1].plot(sol1.t,dphi, label='$log|\\Delta\\phi(t)|$')\n",
        "ax[1].set_ylabel('$log|\\Delta\\phi(t)|$');\n",
        "ax[1].set_xlabel('t')\n",
        "ax[0].legend()\n",
        "ax[1].legend();"
      ],
      "metadata": {
        "colab": {
          "base_uri": "https://localhost:8080/",
          "height": 442
        },
        "id": "DNba9CsdNOcj",
        "outputId": "317776ba-994d-4ab2-9ccf-abe1c80f2b03"
      },
      "execution_count": 58,
      "outputs": [
        {
          "output_type": "display_data",
          "data": {
            "text/plain": [
              "<Figure size 360x504 with 2 Axes>"
            ],
            "image/png": "[encoded data removed]"
          },
          "metadata": {
            "needs_background": "light"
          }
        }
      ]
    },
    {
      "cell_type": "markdown",
      "source": [
        "We can see that because of the strict agreement of the upper plot that there is no chaotic behavior, however this doesn't necessarily tell the whole story. The second plot examines this relationship between the two solutions closer, by plotting the log of the difference. because of how the crests of the graph decrease linearly, that shows that the difference between the two solutions decreases exponentially. "
      ],
      "metadata": {
        "id": "RtJH_dZbEEsc"
      }
    },
    {
      "cell_type": "code",
      "source": [
        ""
      ],
      "metadata": {
        "id": "X1xXlGPVCEKL"
      },
      "execution_count": 54,
      "outputs": []
    }
  ]
}
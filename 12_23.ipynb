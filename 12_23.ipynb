{
  "nbformat": 4,
  "nbformat_minor": 0,
  "metadata": {
    "colab": {
      "name": "12_23.ipynb",
      "provenance": [],
      "authorship_tag": "ABX9TyME/bgcQ9tiDBZMSOwWbeMM",
      "include_colab_link": true
    },
    "kernelspec": {
      "name": "python3",
      "display_name": "Python 3"
    },
    "language_info": {
      "name": "python"
    }
  },
  "cells": [
    {
      "cell_type": "markdown",
      "metadata": {
        "id": "view-in-github",
        "colab_type": "text"
      },
      "source": [
        "<a href=\"https://colab.research.google.com/github/jhildebrand22/HW-PS353/blob/main/12_23.ipynb\" target=\"_parent\"><img src=\"https://colab.research.google.com/assets/colab-badge.svg\" alt=\"Open In Colab\"/></a>"
      ]
    },
    {
      "cell_type": "code",
      "execution_count": 1,
      "metadata": {
        "id": "CioFOwDefiG2"
      },
      "outputs": [],
      "source": [
        "!pip install whit_phys_util 1> /dev/null"
      ]
    },
    {
      "cell_type": "code",
      "source": [
        "import whit_phys_util as buc\n",
        "import numpy as np\n",
        "import matplotlib.pyplot as plt\n",
        "import sympy as sp"
      ],
      "metadata": {
        "id": "zJ4kbpoYfpMx",
        "outputId": "c40740f5-c363-4b33-82f1-6ac9bab95c61",
        "colab": {
          "base_uri": "https://localhost:8080/"
        }
      },
      "execution_count": 2,
      "outputs": [
        {
          "output_type": "stream",
          "name": "stdout",
          "text": [
            "Mounted at /content/drive\n"
          ]
        }
      ]
    },
    {
      "cell_type": "code",
      "source": [
        "repo = buc.local_repository('https://github.com/jhildebrand22/HW-PS353')"
      ],
      "metadata": {
        "id": "kBTvjK7FSKxU",
        "outputId": "77417e15-db52-43a3-a7bf-b13d07f30b0a",
        "colab": {
          "base_uri": "https://localhost:8080/"
        }
      },
      "execution_count": 28,
      "outputs": [
        {
          "output_type": "stream",
          "name": "stdout",
          "text": [
            "Cloning repository from GitHub.\n"
          ]
        }
      ]
    },
    {
      "cell_type": "markdown",
      "source": [
        "##Sine map\n",
        "> $$\n",
        "x_{t + 1} = r \\sin(\\pi x_t)\n",
        "$$"
      ],
      "metadata": {
        "id": "l37FPz-qhtiB"
      }
    },
    {
      "cell_type": "code",
      "source": [
        "def f(r,x):\n",
        "  return r*np.sin(np.pi*x)"
      ],
      "metadata": {
        "id": "xhXu9Sa2iVXT"
      },
      "execution_count": 3,
      "outputs": []
    },
    {
      "cell_type": "code",
      "source": [
        "r1 = 0.15\n",
        "r2 = 0.85\n",
        "x = np.linspace(0.0001,0.9999,501)"
      ],
      "metadata": {
        "id": "WIt1y4yFi0FW"
      },
      "execution_count": 4,
      "outputs": []
    },
    {
      "cell_type": "code",
      "source": [
        "fig,ax = plt.subplots()\n",
        "ax.plot(x,f(r1,x),label='$r = 0.15$')\n",
        "ax.plot(x,f(r2,x),label='$r = 0.75$')\n",
        "ax.plot(x,x,label='$f(x*) = x*$')\n",
        "ax.set_xlabel('$x_t$')\n",
        "ax.set_ylabel('$x_{t+1}$')\n",
        "ax.legend();"
      ],
      "metadata": {
        "colab": {
          "base_uri": "https://localhost:8080/",
          "height": 281
        },
        "id": "u-iJQOrxjHMr",
        "outputId": "3fb64895-22d8-4e0d-ed3d-eec1f5aa0478"
      },
      "execution_count": 5,
      "outputs": [
        {
          "output_type": "display_data",
          "data": {
            "text/plain": [
              "<Figure size 432x288 with 1 Axes>"
            ],
            "image/png": "[encoded data removed]"
          },
          "metadata": {
            "needs_background": "light"
          }
        }
      ]
    },
    {
      "cell_type": "markdown",
      "source": [
        "a) \\\n",
        "We can identify fixed points based on the what the function $f(x*)$ returns. If $f(x*) = x*$, we know we have a fixed point, therefore intersections with that line on the above graph indicates fixed points of our sine map. As the graph shows, for small r, there is one intersections at $x = 0$, indicating that for small r there is only one fixed point, $x^* = 0$. When r gets bigger, another intersection occurs as shown by the $r = 0.85$ line on the above graph, which has r dependence, it will increase with r. So, for large r (relative t our range of 0 to 1), there are two fixed points. \n",
        "\\\n",
        "\\\n",
        "See my answer for b as to the stability of $x^* = 0$ for small values of $r$ "
      ],
      "metadata": {
        "id": "8FoQQsw3lPL0"
      }
    },
    {
      "cell_type": "markdown",
      "source": [
        "b) \n",
        "\\\n",
        "If $|f'(x)| < 1$, $x^*$ is an attractor. If $|f'(x)| > 1$, $x^*$ is an repeller. \n",
        "\\\n",
        "\\\n",
        "$$\n",
        "f'(x^*) = r \\pi \\cos(\\pi x^*)\n",
        "$$\\\n",
        "If we plug 0 in for $x^*$, we find that $f'(0) = r\\pi$. On the threshold, $r\\pi = 1$, therefore we know that when $r < \\frac{1}{\\pi}$, $x^* = 0$ is an attractor. This also tells us that when $r > \\frac{1}{\\pi}$, $x^* = 0$ is a repeller, which means that our $r_0$ value is the threshold at which $x^* = 0$ switches from stable to unstable. \n",
        " \n",
        "Therefore, \n",
        "$$ r_0 = \\frac{1}{\\pi} $$ "
      ],
      "metadata": {
        "id": "1B9whLrW3Oh7"
      }
    },
    {
      "cell_type": "code",
      "source": [
        "sp.var('r x')\n",
        "f_sym = r*(sp.pi*x - ((sp.pi**3)/6)*x**3 + ((sp.pi**5)/120)*x**5) # using a taylor series to solve this guy for the fixed pt\n",
        "f_sym_prime = f_sym.diff(x) #derivative of f(x) wrt x\n",
        "x_star = sp.solve(sp.Eq(f_sym,x),x) #solving for x in the original function when f(x*) = x*\n",
        "x_star\n",
        "r_1 = sp.solve(sp.Eq(f_sym_prime.subs({x:x_star[2]}),-1),r) #solving for r when f'(x*) = 1 to show when we lose stability\n",
        "r_1"
      ],
      "metadata": {
        "colab": {
          "base_uri": "https://localhost:8080/"
        },
        "id": "UmtFwkbc6Vj4",
        "outputId": "7aa8665d-b1fe-4b22-b605-469c7a8276af"
      },
      "execution_count": 27,
      "outputs": [
        {
          "output_type": "execute_result",
          "data": {
            "text/plain": [
              "[(8 - sqrt(10))/(2*pi), (sqrt(10) + 8)/(2*pi)]"
            ]
          },
          "metadata": {},
          "execution_count": 27
        }
      ]
    },
    {
      "cell_type": "markdown",
      "source": [
        "Since we are restricting our range of r from $0 \\leq r \\leq 1$, we take the first root, which then shows that $$ r_1 \\approx 0.77$$ "
      ],
      "metadata": {
        "id": "SOYUOT5PRFuI"
      }
    },
    {
      "cell_type": "code",
      "source": [
        ""
      ],
      "metadata": {
        "id": "WQXbdkdtNKRR"
      },
      "execution_count": null,
      "outputs": []
    }
  ]
}
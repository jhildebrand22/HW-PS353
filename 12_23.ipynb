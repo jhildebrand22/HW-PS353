{
  "nbformat": 4,
  "nbformat_minor": 0,
  "metadata": {
    "colab": {
      "name": "12_23.ipynb",
      "provenance": [],
      "authorship_tag": "ABX9TyOn2OZZM6P9TDz8fJkcE9ug",
      "include_colab_link": true
    },
    "kernelspec": {
      "name": "python3",
      "display_name": "Python 3"
    },
    "language_info": {
      "name": "python"
    }
  },
  "cells": [
    {
      "cell_type": "markdown",
      "metadata": {
        "id": "view-in-github",
        "colab_type": "text"
      },
      "source": [
        "<a href=\"https://colab.research.google.com/github/jhildebrand22/HW-PS353/blob/main/12_23.ipynb\" target=\"_parent\"><img src=\"https://colab.research.google.com/assets/colab-badge.svg\" alt=\"Open In Colab\"/></a>"
      ]
    },
    {
      "cell_type": "code",
      "execution_count": 5,
      "metadata": {
        "id": "CioFOwDefiG2"
      },
      "outputs": [],
      "source": [
        "!pip install whit_phys_util 1> /dev/null"
      ]
    },
    {
      "cell_type": "code",
      "source": [
        "import whit_phys_util as buc\n",
        "import numpy as np\n",
        "import matplotlib.pyplot as plt"
      ],
      "metadata": {
        "colab": {
          "base_uri": "https://localhost:8080/"
        },
        "id": "zJ4kbpoYfpMx",
        "outputId": "15724681-6df5-41f0-c3a4-15542139ba54"
      },
      "execution_count": 3,
      "outputs": [
        {
          "output_type": "stream",
          "name": "stdout",
          "text": [
            "Mounted at /content/drive\n"
          ]
        }
      ]
    },
    {
      "cell_type": "markdown",
      "source": [
        "##Sine map\n",
        "> $$\n",
        "x_{t + 1} = r \\sin(\\pi x_t)\n",
        "$$"
      ],
      "metadata": {
        "id": "l37FPz-qhtiB"
      }
    },
    {
      "cell_type": "code",
      "source": [
        "def f(r,x):\n",
        "  return r*np.sin(np.pi*x)"
      ],
      "metadata": {
        "id": "xhXu9Sa2iVXT"
      },
      "execution_count": 6,
      "outputs": []
    },
    {
      "cell_type": "code",
      "source": [
        "r1 = 0.15\n",
        "r2 = 0.85\n",
        "x = np.linspace(0.0001,0.9999,501)"
      ],
      "metadata": {
        "id": "WIt1y4yFi0FW"
      },
      "execution_count": 35,
      "outputs": []
    },
    {
      "cell_type": "code",
      "source": [
        "fig,ax = plt.subplots()\n",
        "ax.plot(x,f(r1,x),label='$r = 0.15$')\n",
        "ax.plot(x,f(r2,x),label='$r = 0.85$')\n",
        "ax.plot(x,x,label='$f(x*) = x*$')\n",
        "ax.set_xlabel('$x_t$')\n",
        "ax.set_ylabel('$x_{t+1}$')\n",
        "ax.legend();"
      ],
      "metadata": {
        "colab": {
          "base_uri": "https://localhost:8080/",
          "height": 281
        },
        "id": "u-iJQOrxjHMr",
        "outputId": "bbc41f91-6f06-43f2-df21-23e30bc7272b"
      },
      "execution_count": 22,
      "outputs": [
        {
          "output_type": "display_data",
          "data": {
            "text/plain": [
              "<Figure size 432x288 with 1 Axes>"
            ],
            "image/png": "[encoded data removed]"
          },
          "metadata": {
            "needs_background": "light"
          }
        }
      ]
    },
    {
      "cell_type": "markdown",
      "source": [
        "a) \\\n",
        "We can identify fixed points based on the what the function $f(x*)$ returns. If $f(x*) = x*$, we know we have a fixed point, therefore intersections with that line on the above graph indicates fixed points of our sine map. As the graph shows, for small r, there is one intersections at $x = 0$, indicatinf that for small r there is only one fixed point, $x* = 0$. When r gets bigger, another intersection occurs as shown by the $r = 0.85$ line on the above graph, which has r dependence, it will increase with r. So, for large r (relative t our range of 0 to 1), there are two fixed points. \n",
        "\\\n",
        "\\\n",
        "As far as stability goes, we can show stability based on the value of $f(x)$. Since This is a map, $f(x)$ represents the next discrete point. As the lower line shows, the value of $f(x)$ is lower than the crresponding value of $x$, meaning that every iteration the value of $x$ is decreasing, making $x^* = 0$ an attractor, or a stable fixed point.  "
      ],
      "metadata": {
        "id": "8FoQQsw3lPL0"
      }
    },
    {
      "cell_type": "markdown",
      "source": [
        "b) \n",
        "\\\n",
        "If $|f'(x)| < 1$, $x^*$ is an attractor. If $|f'(x)| > 1$, $x^*$ is an repeller. \n",
        "\\\n",
        "\\\n",
        "$$\n",
        "f'(x^*) = r \\pi \\cos(\\pi x^*)\n",
        "$$\\\n",
        "If we plug 0 in for $x^*$, we find that $f'(0) = r\\pi$. On the threshold, $r\\pi = 1$, therefore we know that when $r < \\frac{1}{\\pi}$, $x^* = 0$ is an attractor. This also tells us that when $r > \\frac{1}{\\pi}$, $x^* = 0$ is a repeller, which means that our $r_0$ value is the threshold at which $x^* = 0$ switches from stable to unstable. \n",
        " \n",
        "Therefore, \n",
        "$$ r_0 = \\frac{1}{\\pi} $$ "
      ],
      "metadata": {
        "id": "1B9whLrW3Oh7"
      }
    },
    {
      "cell_type": "code",
      "source": [
        ""
      ],
      "metadata": {
        "id": "UmtFwkbc6Vj4"
      },
      "execution_count": null,
      "outputs": []
    }
  ]
}
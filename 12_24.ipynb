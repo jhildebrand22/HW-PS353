{
  "nbformat": 4,
  "nbformat_minor": 0,
  "metadata": {
    "colab": {
      "name": "12_24.ipynb",
      "provenance": [],
      "authorship_tag": "ABX9TyPvXHprrST5cgh6yskfIlTM",
      "include_colab_link": true
    },
    "kernelspec": {
      "name": "python3",
      "display_name": "Python 3"
    },
    "language_info": {
      "name": "python"
    }
  },
  "cells": [
    {
      "cell_type": "markdown",
      "metadata": {
        "id": "view-in-github",
        "colab_type": "text"
      },
      "source": [
        "<a href=\"https://colab.research.google.com/github/jhildebrand22/HW-PS353/blob/main/12_24.ipynb\" target=\"_parent\"><img src=\"https://colab.research.google.com/assets/colab-badge.svg\" alt=\"Open In Colab\"/></a>"
      ]
    },
    {
      "cell_type": "code",
      "execution_count": 1,
      "metadata": {
        "id": "Mp17DS9eJZNX"
      },
      "outputs": [],
      "source": [
        "!pip install whit_phys_util 1> /dev/null"
      ]
    },
    {
      "cell_type": "code",
      "source": [
        "import whit_phys_util as buc\n",
        "import matplotlib.pyplot as plt\n",
        "from numpy import pi,sin,linspace"
      ],
      "metadata": {
        "id": "dbVlK-EeNEAh",
        "colab": {
          "base_uri": "https://localhost:8080/"
        },
        "outputId": "5b3af61d-a737-47ed-9cf6-8e8fc68107f3"
      },
      "execution_count": 2,
      "outputs": [
        {
          "output_type": "stream",
          "name": "stdout",
          "text": [
            "Mounted at /content/drive\n"
          ]
        }
      ]
    },
    {
      "cell_type": "code",
      "source": [
        "repo = buc.local_repository('https://github.com/jhildebrand22/HW-PS353')"
      ],
      "metadata": {
        "colab": {
          "base_uri": "https://localhost:8080/"
        },
        "id": "WEF-AAmWSvRV",
        "outputId": "7fd2a335-9930-49a7-8fbf-239b7fddce0d"
      },
      "execution_count": 3,
      "outputs": [
        {
          "output_type": "stream",
          "name": "stdout",
          "text": [
            "Cloning repository from GitHub.\n"
          ]
        }
      ]
    },
    {
      "cell_type": "code",
      "source": [
        "#Sine map\n",
        "def sin_map(r,x):\n",
        "  return r*sin(pi*x)"
      ],
      "metadata": {
        "id": "kQBqFf44NL46"
      },
      "execution_count": 4,
      "outputs": []
    },
    {
      "cell_type": "code",
      "source": [
        "r1 = 0.1\n",
        "r2 = 0.5\n",
        "r3 = 0.78\n",
        "x_len = 20\n",
        "x_0 = 0.3\n",
        "t = linspace(0,20,21)"
      ],
      "metadata": {
        "id": "1kDdkfgZOY1t"
      },
      "execution_count": 5,
      "outputs": []
    },
    {
      "cell_type": "code",
      "source": [
        "def x_t(r):  \n",
        "  x_new = [x_0]\n",
        "  for i in range(x_len):\n",
        "    x_new.append(sin_map(r,x_new[i]))\n",
        "\n",
        "  return x_new"
      ],
      "metadata": {
        "id": "BOCsYnYnOADI"
      },
      "execution_count": 6,
      "outputs": []
    },
    {
      "cell_type": "code",
      "source": [
        "x1 = x_t(r1)\n",
        "x2 = x_t(r2)\n",
        "x3 = x_t(r3)"
      ],
      "metadata": {
        "id": "mdAdOUdQPLXX"
      },
      "execution_count": 7,
      "outputs": []
    },
    {
      "cell_type": "code",
      "source": [
        "fig,ax = plt.subplots(3, figsize = (6,12))\n",
        "ax[0].plot(t,x1,'o',label='r = 0.1')\n",
        "ax[0].set_ylabel('$x_t$')\n",
        "ax[0].set_xlabel('t')\n",
        "ax[1].plot(t,x2,'o', label='r = 0.5')\n",
        "ax[1].set_ylabel('$x_t$')\n",
        "ax[2].plot(t,x3,'o', label = 'r = 0.78')\n",
        "ax[2].set_ylabel('$x_t$')\n",
        "ax[0].legend()\n",
        "ax[1].legend()\n",
        "ax[2].legend();"
      ],
      "metadata": {
        "colab": {
          "base_uri": "https://localhost:8080/",
          "height": 700
        },
        "id": "m6un_cS-PYQh",
        "outputId": "9f9cc91f-329a-4f43-bd75-b8bbfbb6dd32"
      },
      "execution_count": 8,
      "outputs": [
        {
          "output_type": "display_data",
          "data": {
            "text/plain": [
              "<Figure size 432x864 with 3 Axes>"
            ],
            "image/png": "[encoded data removed]"
          },
          "metadata": {
            "needs_background": "light"
          }
        }
      ]
    },
    {
      "cell_type": "markdown",
      "source": [
        "## a) $r = 0.1$ \n",
        "> The long term attractor in the case of $r = 0.1$ is at $x* = 0$, and as we see from the graph, the sine map settles down to a constant zero value very quickly. "
      ],
      "metadata": {
        "id": "oOosFCoETWmH"
      }
    },
    {
      "cell_type": "markdown",
      "source": [
        "##b) $r = 0.5$\n",
        "> In the case of $r = 0.5$, we see the motion settles down to a constant non-zero value, indicating that there is an attractor at around $x_t = 0.5$.  "
      ],
      "metadata": {
        "id": "lONuyZ7AT386"
      }
    },
    {
      "cell_type": "markdown",
      "source": [
        "##c) $r = 0.78$\n",
        "> There are two attractors in this case, for which the value of the next step in the map oscilliates between. This is a period two attractor where $x_{t+2} = x_t$, and $g(x) = f(f(x)) = x^*$. "
      ],
      "metadata": {
        "id": "6RLIeie5Ufn6"
      }
    },
    {
      "cell_type": "markdown",
      "source": [
        "##Are the results consistent with 12.23?\n",
        "> These results are consistent with the results of 12.23. In the first case, $r = 0.1$, there is one stable fixed point at $x* = 0$. In the second case, $r = 0.5$ we see a non-zero stable fixed point, which agrees with 12.23 in that our $r$ value is greater than $\\frac{1}{\\pi}$, which means the fixed point $x^* = 0$ is now unstable, and the other fixed point that is dependent on r is the stable one. In the third case, we have surpassed the value of $r$ for which the second fixed point that appears when $r > \\frac{1}{\\pi}$ is stable, which is about $r = 0.71$, and we see a new period doubling occur."
      ],
      "metadata": {
        "id": "b0JVpEgtVEIi"
      }
    },
    {
      "cell_type": "code",
      "source": [
        ""
      ],
      "metadata": {
        "id": "YCg2Q04jT20Q"
      },
      "execution_count": 8,
      "outputs": []
    }
  ]
}
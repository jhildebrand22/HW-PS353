{
  "nbformat": 4,
  "nbformat_minor": 0,
  "metadata": {
    "colab": {
      "name": "Untitled13.ipynb",
      "provenance": [],
      "authorship_tag": "ABX9TyP7Vum3DSTORzUHBJVIi3sf",
      "include_colab_link": true
    },
    "kernelspec": {
      "name": "python3",
      "display_name": "Python 3"
    },
    "language_info": {
      "name": "python"
    }
  },
  "cells": [
    {
      "cell_type": "markdown",
      "metadata": {
        "id": "view-in-github",
        "colab_type": "text"
      },
      "source": [
        "<a href=\"https://colab.research.google.com/github/jhildebrand22/HW-PS353/blob/main/14_12.ipynb\" target=\"_parent\"><img src=\"https://colab.research.google.com/assets/colab-badge.svg\" alt=\"Open In Colab\"/></a>"
      ]
    },
    {
      "cell_type": "code",
      "execution_count": 2,
      "metadata": {
        "id": "Z_MwxLJ5FxlN"
      },
      "outputs": [],
      "source": [
        "!pip install whit_phys_util 1> /dev/null"
      ]
    },
    {
      "cell_type": "code",
      "source": [
        "import whit_phys_util as buc\n",
        "from sympy import *\n",
        "import numpy as np\n",
        "import scipy.constants as sc\n",
        "import matplotlib.pyplot as plt"
      ],
      "metadata": {
        "colab": {
          "base_uri": "https://localhost:8080/"
        },
        "id": "sdXPN8IcGJoc",
        "outputId": "9af9db33-618a-44c8-c160-210a09bf817c"
      },
      "execution_count": 3,
      "outputs": [
        {
          "output_type": "stream",
          "name": "stdout",
          "text": [
            "Mounted at /content/drive\n"
          ]
        }
      ]
    },
    {
      "cell_type": "code",
      "source": [
        "var('hbar theta p m delta E phi',positive=True);"
      ],
      "metadata": {
        "id": "rqqSALYIIfkE"
      },
      "execution_count": 28,
      "outputs": []
    },
    {
      "cell_type": "code",
      "source": [
        "m_n = 1.675e-27\n",
        "d = [-30*pi/180, 150*pi/180]\n",
        "E_n = 10e6*1.6e-19 #J\n",
        "P_n = [1,cos(theta)] \n",
        "params = {E:E_n, m:m_n, hbar:sc.hbar}"
      ],
      "metadata": {
        "id": "YvLMxVAyGxXp"
      },
      "execution_count": 5,
      "outputs": []
    },
    {
      "cell_type": "code",
      "source": [
        "f_theta = (hbar/p)*sum((2*n+1)*exp(I*d[n])*sin(d[n])*P_n[n] for n in range(len(P_n)))\n",
        "f_theta.simplify()"
      ],
      "metadata": {
        "colab": {
          "base_uri": "https://localhost:8080/",
          "height": 62
        },
        "id": "buaD8OV6HJnF",
        "outputId": "3348a44a-29ac-48b1-f662-ef6585094d69"
      },
      "execution_count": 6,
      "outputs": [
        {
          "output_type": "execute_result",
          "data": {
            "text/plain": [
              "(-1)**(5/6)*hbar*(3*cos(theta) + 1)/(2*p)"
            ],
            "text/latex": "$\\displaystyle \\frac{\\left(-1\\right)^{\\frac{5}{6}} \\hbar \\left(3 \\cos{\\left(\\theta \\right)} + 1\\right)}{2 p}$"
          },
          "metadata": {},
          "execution_count": 6
        }
      ]
    },
    {
      "cell_type": "code",
      "source": [
        "p = sqrt(2*E*m)\n",
        "f_theta = (hbar/p)*sum((2*n+1)*exp(I*d[n])*sin(d[n])*P_n[n] for n in range(len(P_n)))\n",
        "f_theta"
      ],
      "metadata": {
        "colab": {
          "base_uri": "https://localhost:8080/",
          "height": 82
        },
        "id": "TfOLhAZXJu_0",
        "outputId": "8ae8bd26-7656-4333-a727-10c92d5673a5"
      },
      "execution_count": 7,
      "outputs": [
        {
          "output_type": "execute_result",
          "data": {
            "text/plain": [
              "sqrt(2)*hbar*(3*exp(5*I*pi/6)*cos(theta)/2 - exp(-I*pi/6)/2)/(2*sqrt(E)*sqrt(m))"
            ],
            "text/latex": "$\\displaystyle \\frac{\\sqrt{2} \\hbar \\left(\\frac{3 e^{\\frac{5 i \\pi}{6}} \\cos{\\left(\\theta \\right)}}{2} - \\frac{e^{- \\frac{i \\pi}{6}}}{2}\\right)}{2 \\sqrt{E} \\sqrt{m}}$"
          },
          "metadata": {},
          "execution_count": 7
        }
      ]
    },
    {
      "cell_type": "code",
      "source": [
        "b = f_theta*conjugate(f_theta)\n",
        "dxsection = b.simplify()\n",
        "dxsection"
      ],
      "metadata": {
        "colab": {
          "base_uri": "https://localhost:8080/",
          "height": 56
        },
        "id": "6kXTyMFnLOW0",
        "outputId": "081f2ba1-b093-4e66-f40b-fa63599aacbd"
      },
      "execution_count": 8,
      "outputs": [
        {
          "output_type": "execute_result",
          "data": {
            "text/plain": [
              "hbar**2*(3*cos(theta) + 1)**2/(8*E*m)"
            ],
            "text/latex": "$\\displaystyle \\frac{\\hbar^{2} \\left(3 \\cos{\\left(\\theta \\right)} + 1\\right)^{2}}{8 E m}$"
          },
          "metadata": {},
          "execution_count": 8
        }
      ]
    },
    {
      "cell_type": "code",
      "source": [
        "dxs_num = dxsection.subs(params)\n",
        "dxs_num"
      ],
      "metadata": {
        "colab": {
          "base_uri": "https://localhost:8080/",
          "height": 39
        },
        "id": "9iAPLFZtUmuL",
        "outputId": "0ad9e174-1fd8-4f3a-ad02-eab8bd7f4859"
      },
      "execution_count": 16,
      "outputs": [
        {
          "output_type": "execute_result",
          "data": {
            "text/plain": [
              "5.18713488140634e-31*(3*cos(theta) + 1)**2"
            ],
            "text/latex": "$\\displaystyle 5.18713488140634 \\cdot 10^{-31} \\left(3 \\cos{\\left(\\theta \\right)} + 1\\right)^{2}$"
          },
          "metadata": {},
          "execution_count": 16
        }
      ]
    },
    {
      "cell_type": "code",
      "source": [
        "fig1 = plot(dxs_num,(theta,0,pi),ylim = (0,9e-30),ylabel='diff x-section (m^2)')"
      ],
      "metadata": {
        "colab": {
          "base_uri": "https://localhost:8080/",
          "height": 297
        },
        "id": "km5NRgVZWXLS",
        "outputId": "ae3f99f1-840c-43a4-8fb3-5bb4335047cb"
      },
      "execution_count": 25,
      "outputs": [
        {
          "output_type": "display_data",
          "data": {
            "text/plain": [
              "<Figure size 432x288 with 1 Axes>"
            ],
            "image/png": "[encoded data removed]"
          },
          "metadata": {
            "needs_background": "light"
          }
        }
      ]
    },
    {
      "cell_type": "code",
      "source": [
        "dsigma = dxsection*sin(theta)"
      ],
      "metadata": {
        "id": "rpa1xsouVMIe"
      },
      "execution_count": 26,
      "outputs": []
    },
    {
      "cell_type": "code",
      "source": [
        "sigma_almost = integrate(dsigma,(theta,0,pi))\n",
        "sigma = integrate(sigma_almost,(phi,0,2*pi))\n",
        "sigma"
      ],
      "metadata": {
        "id": "g531wi0fdp3F",
        "outputId": "aa12c7e6-d269-483e-c23a-4db0d11806ea",
        "colab": {
          "base_uri": "https://localhost:8080/",
          "height": 54
        }
      },
      "execution_count": 30,
      "outputs": [
        {
          "output_type": "execute_result",
          "data": {
            "text/plain": [
              "2*pi*hbar**2/(E*m)"
            ],
            "text/latex": "$\\displaystyle \\frac{2 \\pi \\hbar^{2}}{E m}$"
          },
          "metadata": {},
          "execution_count": 30
        }
      ]
    },
    {
      "cell_type": "code",
      "source": [
        "sigma.subs(params)"
      ],
      "metadata": {
        "id": "RSrpgu39eEHj",
        "outputId": "9cf2c824-81b3-4e1b-9e2e-651a126bd495",
        "colab": {
          "base_uri": "https://localhost:8080/",
          "height": 39
        }
      },
      "execution_count": 31,
      "outputs": [
        {
          "output_type": "execute_result",
          "data": {
            "text/plain": [
              "8.29941581025014e-30*pi"
            ],
            "text/latex": "$\\displaystyle 8.29941581025014 \\cdot 10^{-30} \\pi$"
          },
          "metadata": {},
          "execution_count": 31
        }
      ]
    },
    {
      "cell_type": "code",
      "source": [
        ""
      ],
      "metadata": {
        "id": "ZHMa9QUEeW9M"
      },
      "execution_count": null,
      "outputs": []
    }
  ]
}
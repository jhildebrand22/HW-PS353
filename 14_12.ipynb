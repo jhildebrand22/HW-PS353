{
  "nbformat": 4,
  "nbformat_minor": 0,
  "metadata": {
    "colab": {
      "name": "Untitled13.ipynb",
      "provenance": [],
      "authorship_tag": "ABX9TyOOOjkYUuJTkEGiv0Djo24j",
      "include_colab_link": true
    },
    "kernelspec": {
      "name": "python3",
      "display_name": "Python 3"
    },
    "language_info": {
      "name": "python"
    }
  },
  "cells": [
    {
      "cell_type": "markdown",
      "metadata": {
        "id": "view-in-github",
        "colab_type": "text"
      },
      "source": [
        "<a href=\"https://colab.research.google.com/github/jhildebrand22/HW-PS353/blob/main/14_12.ipynb\" target=\"_parent\"><img src=\"https://colab.research.google.com/assets/colab-badge.svg\" alt=\"Open In Colab\"/></a>"
      ]
    },
    {
      "cell_type": "code",
      "execution_count": 2,
      "metadata": {
        "id": "Z_MwxLJ5FxlN"
      },
      "outputs": [],
      "source": [
        "!pip install whit_phys_util 1> /dev/null"
      ]
    },
    {
      "cell_type": "code",
      "source": [
        "import whit_phys_util as buc\n",
        "from sympy import *\n",
        "import numpy as np\n",
        "import scipy.constants as sc\n",
        "import matplotlib.pyplot as plt"
      ],
      "metadata": {
        "colab": {
          "base_uri": "https://localhost:8080/"
        },
        "id": "sdXPN8IcGJoc",
        "outputId": "9af9db33-618a-44c8-c160-210a09bf817c"
      },
      "execution_count": 3,
      "outputs": [
        {
          "output_type": "stream",
          "name": "stdout",
          "text": [
            "Mounted at /content/drive\n"
          ]
        }
      ]
    },
    {
      "cell_type": "code",
      "source": [
        "var('hbar theta p m delta E',positive=True);"
      ],
      "metadata": {
        "id": "rqqSALYIIfkE"
      },
      "execution_count": 4,
      "outputs": []
    },
    {
      "cell_type": "code",
      "source": [
        "m_n = 1.675e-27\n",
        "d = [-30*pi/180, 150*pi/180]\n",
        "E_n = 10e6*1.6e-19 #J\n",
        "P_n = [1,cos(theta)] \n",
        "params = {E:E_n, m:m_n, hbar:sc.hbar}"
      ],
      "metadata": {
        "id": "YvLMxVAyGxXp"
      },
      "execution_count": 5,
      "outputs": []
    },
    {
      "cell_type": "code",
      "source": [
        "f_theta = (hbar/p)*sum((2*n+1)*exp(I*d[n])*sin(d[n])*P_n[n] for n in range(len(P_n)))\n",
        "f_theta.simplify()"
      ],
      "metadata": {
        "colab": {
          "base_uri": "https://localhost:8080/",
          "height": 62
        },
        "id": "buaD8OV6HJnF",
        "outputId": "3348a44a-29ac-48b1-f662-ef6585094d69"
      },
      "execution_count": 6,
      "outputs": [
        {
          "output_type": "execute_result",
          "data": {
            "text/plain": [
              "(-1)**(5/6)*hbar*(3*cos(theta) + 1)/(2*p)"
            ],
            "text/latex": "$\\displaystyle \\frac{\\left(-1\\right)^{\\frac{5}{6}} \\hbar \\left(3 \\cos{\\left(\\theta \\right)} + 1\\right)}{2 p}$"
          },
          "metadata": {},
          "execution_count": 6
        }
      ]
    },
    {
      "cell_type": "code",
      "source": [
        "p = sqrt(2*E*m)\n",
        "f_theta = (hbar/p)*sum((2*n+1)*exp(I*d[n])*sin(d[n])*P_n[n] for n in range(len(P_n)))\n",
        "f_theta"
      ],
      "metadata": {
        "colab": {
          "base_uri": "https://localhost:8080/",
          "height": 82
        },
        "id": "TfOLhAZXJu_0",
        "outputId": "8ae8bd26-7656-4333-a727-10c92d5673a5"
      },
      "execution_count": 7,
      "outputs": [
        {
          "output_type": "execute_result",
          "data": {
            "text/plain": [
              "sqrt(2)*hbar*(3*exp(5*I*pi/6)*cos(theta)/2 - exp(-I*pi/6)/2)/(2*sqrt(E)*sqrt(m))"
            ],
            "text/latex": "$\\displaystyle \\frac{\\sqrt{2} \\hbar \\left(\\frac{3 e^{\\frac{5 i \\pi}{6}} \\cos{\\left(\\theta \\right)}}{2} - \\frac{e^{- \\frac{i \\pi}{6}}}{2}\\right)}{2 \\sqrt{E} \\sqrt{m}}$"
          },
          "metadata": {},
          "execution_count": 7
        }
      ]
    },
    {
      "cell_type": "code",
      "source": [
        "b = f_theta*conjugate(f_theta)\n",
        "dxsection = b.simplify()\n",
        "dxsection"
      ],
      "metadata": {
        "colab": {
          "base_uri": "https://localhost:8080/",
          "height": 56
        },
        "id": "6kXTyMFnLOW0",
        "outputId": "081f2ba1-b093-4e66-f40b-fa63599aacbd"
      },
      "execution_count": 8,
      "outputs": [
        {
          "output_type": "execute_result",
          "data": {
            "text/plain": [
              "hbar**2*(3*cos(theta) + 1)**2/(8*E*m)"
            ],
            "text/latex": "$\\displaystyle \\frac{\\hbar^{2} \\left(3 \\cos{\\left(\\theta \\right)} + 1\\right)^{2}}{8 E m}$"
          },
          "metadata": {},
          "execution_count": 8
        }
      ]
    },
    {
      "cell_type": "code",
      "source": [
        "dxs_num = dxsection.subs(params)\n",
        "theta_r = np.linspace(0,np.pi,501)"
      ],
      "metadata": {
        "id": "9iAPLFZtUmuL"
      },
      "execution_count": 9,
      "outputs": []
    },
    {
      "cell_type": "code",
      "source": [
        "type(theta)"
      ],
      "metadata": {
        "colab": {
          "base_uri": "https://localhost:8080/"
        },
        "id": "r-rPmxt4Wzc8",
        "outputId": "7eaa8f3e-f151-4f3e-bfc1-284ebd520ed2"
      },
      "execution_count": 10,
      "outputs": [
        {
          "output_type": "execute_result",
          "data": {
            "text/plain": [
              "sympy.core.symbol.Symbol"
            ]
          },
          "metadata": {},
          "execution_count": 10
        }
      ]
    },
    {
      "cell_type": "code",
      "source": [
        "fig1 = plot(theta,dxs_num)"
      ],
      "metadata": {
        "colab": {
          "base_uri": "https://localhost:8080/",
          "height": 297
        },
        "id": "km5NRgVZWXLS",
        "outputId": "0c77ecf6-9d79-40ef-ec0c-0abb22a1e96f"
      },
      "execution_count": 11,
      "outputs": [
        {
          "output_type": "display_data",
          "data": {
            "text/plain": [
              "<Figure size 432x288 with 1 Axes>"
            ],
            "image/png": "[encoded data removed]"
          },
          "metadata": {
            "needs_background": "light"
          }
        }
      ]
    },
    {
      "cell_type": "code",
      "source": [
        ""
      ],
      "metadata": {
        "id": "rpa1xsouVMIe"
      },
      "execution_count": null,
      "outputs": []
    }
  ]
}
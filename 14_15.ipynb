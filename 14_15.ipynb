{
  "nbformat": 4,
  "nbformat_minor": 0,
  "metadata": {
    "colab": {
      "name": "14_15.ipynb",
      "provenance": [],
      "authorship_tag": "ABX9TyOzKRTG7m6liUiNrNxaDm9J",
      "include_colab_link": true
    },
    "kernelspec": {
      "name": "python3",
      "display_name": "Python 3"
    },
    "language_info": {
      "name": "python"
    }
  },
  "cells": [
    {
      "cell_type": "markdown",
      "metadata": {
        "id": "view-in-github",
        "colab_type": "text"
      },
      "source": [
        "<a href=\"https://colab.research.google.com/github/jhildebrand22/HW-PS353/blob/main/14_15.ipynb\" target=\"_parent\"><img src=\"https://colab.research.google.com/assets/colab-badge.svg\" alt=\"Open In Colab\"/></a>"
      ]
    },
    {
      "cell_type": "code",
      "execution_count": 4,
      "metadata": {
        "id": "QA73_dyKNmps"
      },
      "outputs": [],
      "source": [
        "!pip install whit_phys_util 1> /dev/null"
      ]
    },
    {
      "cell_type": "code",
      "source": [
        "import whit_phys_util as buc\n",
        "from sympy import *\n",
        "import numpy as np\n",
        "import matplotlib.pyplot as plt"
      ],
      "metadata": {
        "id": "n33pAHQUNsua"
      },
      "execution_count": 51,
      "outputs": []
    },
    {
      "cell_type": "code",
      "source": [
        "var('b R zeta');\n",
        "params = {zeta:0.5, R:1}"
      ],
      "metadata": {
        "id": "6uLAITVQOhtb"
      },
      "execution_count": 52,
      "outputs": []
    },
    {
      "cell_type": "code",
      "source": [
        "theta = 2*(asin(b/R) - asin(zeta*b/R))"
      ],
      "metadata": {
        "id": "hRghDjE2g1xJ"
      },
      "execution_count": 80,
      "outputs": []
    },
    {
      "cell_type": "code",
      "source": [
        "fig1 = plot(theta.subs(params), xlim = (0,1),ylim = (0,2),ylabel = 'theta')"
      ],
      "metadata": {
        "colab": {
          "base_uri": "https://localhost:8080/",
          "height": 297
        },
        "id": "w9nXe92Tjcgs",
        "outputId": "4cf0fa71-cc77-427d-c3f7-5f288e131fc4"
      },
      "execution_count": 54,
      "outputs": [
        {
          "output_type": "display_data",
          "data": {
            "text/plain": [
              "<Figure size 432x288 with 1 Axes>"
            ],
            "image/png": "[encoded data removed]"
          },
          "metadata": {
            "needs_background": "light"
          }
        }
      ]
    },
    {
      "cell_type": "code",
      "source": [
        "dtheta_db = diff(theta,b)\n",
        "dxs_inv = (sin(theta)/b)*dtheta_db\n",
        "dxs = 1/dxs_inv #Differential cross section\n",
        "dxs #Differential cross section"
      ],
      "metadata": {
        "colab": {
          "base_uri": "https://localhost:8080/",
          "height": 101
        },
        "id": "iZK2jReIhf2F",
        "outputId": "d84ee83a-3f6a-4192-a952-b6857838d9b3"
      },
      "execution_count": 64,
      "outputs": [
        {
          "output_type": "execute_result",
          "data": {
            "text/plain": [
              "b/((-2*zeta/(R*sqrt(1 - b**2*zeta**2/R**2)) + 2/(R*sqrt(1 - b**2/R**2)))*sin(2*asin(b/R) - 2*asin(b*zeta/R)))"
            ],
            "text/latex": "$\\displaystyle \\frac{b}{\\left(- \\frac{2 \\zeta}{R \\sqrt{1 - \\frac{b^{2} \\zeta^{2}}{R^{2}}}} + \\frac{2}{R \\sqrt{1 - \\frac{b^{2}}{R^{2}}}}\\right) \\sin{\\left(2 \\operatorname{asin}{\\left(\\frac{b}{R} \\right)} - 2 \\operatorname{asin}{\\left(\\frac{b \\zeta}{R} \\right)} \\right)}}$"
          },
          "metadata": {},
          "execution_count": 64
        }
      ]
    },
    {
      "cell_type": "code",
      "source": [
        "dxs_n = lambdify(b,dxs.subs(params),'numpy')\n",
        "theta_n = lambdify(b,theta.subs(params),'numpy')\n",
        "b_n = np.linspace(1e-10,0.9999999999,1001)"
      ],
      "metadata": {
        "id": "_Ad4o6LLq7mS"
      },
      "execution_count": 98,
      "outputs": []
    },
    {
      "cell_type": "code",
      "source": [
        "fig,ax = plt.subplots()\n",
        "ax.plot(theta_n(b_n),dxs_n(b_n))\n",
        "ax.set_xlabel('Scattering angle (rad)')\n",
        "ax.set_ylabel('Differential cross section (m^2)');"
      ],
      "metadata": {
        "colab": {
          "base_uri": "https://localhost:8080/",
          "height": 279
        },
        "id": "R5pWif2Dx98v",
        "outputId": "c454e83c-7535-48f1-f89a-87f4c1977d32"
      },
      "execution_count": 100,
      "outputs": [
        {
          "output_type": "display_data",
          "data": {
            "text/plain": [
              "<Figure size 432x288 with 1 Axes>"
            ],
            "image/png": "[encoded data removed]"
          },
          "metadata": {
            "needs_background": "light"
          }
        }
      ]
    },
    {
      "cell_type": "markdown",
      "source": [
        "Comment \n",
        "> The differential cross section is at a max at $\\theta = 0$, and a min at $\\frac{b}{R} = 1$, or $\\theta = 2$. This means that as the impact parameter decreases, the differential cross section increases. Notice as $\\theta$ goes to $2$, the differential cross section goes to zero, as in this case $\\frac{b}{R} = 1$, and the incident particle is no longer going to be affected by the impulses because it will miss the potential well. At the boundary in this case where $b$ is slightly smaller than $R$, the impulses will be almost perpendicular to the initial momentum, reulting in a maximum in the scattering angle. In the case of $b = 0$, the impulses will not change the direction of the incident particle, just its energy, and there will be no scattering angle. "
      ],
      "metadata": {
        "id": "fWW9b9LgzoYv"
      }
    },
    {
      "cell_type": "code",
      "source": [
        ""
      ],
      "metadata": {
        "id": "jnZglw4zxKr6"
      },
      "execution_count": null,
      "outputs": []
    }
  ]
}
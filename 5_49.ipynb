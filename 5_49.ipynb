{
  "nbformat": 4,
  "nbformat_minor": 0,
  "metadata": {
    "colab": {
      "name": "5_49.ipynb",
      "provenance": [],
      "authorship_tag": "ABX9TyOA03HGOhlwSLcQ84QXYNew",
      "include_colab_link": true
    },
    "kernelspec": {
      "name": "python3",
      "display_name": "Python 3"
    },
    "language_info": {
      "name": "python"
    }
  },
  "cells": [
    {
      "cell_type": "markdown",
      "metadata": {
        "id": "view-in-github",
        "colab_type": "text"
      },
      "source": [
        "<a href=\"https://colab.research.google.com/github/jhildebrand22/HW-PS353/blob/main/5_49.ipynb\" target=\"_parent\"><img src=\"https://colab.research.google.com/assets/colab-badge.svg\" alt=\"Open In Colab\"/></a>"
      ]
    },
    {
      "cell_type": "code",
      "execution_count": 1,
      "metadata": {
        "colab": {
          "base_uri": "https://localhost:8080/"
        },
        "id": "597qKSXe8iNB",
        "outputId": "51dd1df7-1b7e-4efe-8a6f-fe874a15aa49"
      },
      "outputs": [
        {
          "output_type": "stream",
          "name": "stdout",
          "text": [
            "Collecting whit-phys-util\n",
            "  Downloading whit_phys_util-0.2.7-py3-none-any.whl (11 kB)\n",
            "Collecting pydantic>=1.7.3\n",
            "  Downloading pydantic-1.9.0-cp37-cp37m-manylinux_2_17_x86_64.manylinux2014_x86_64.whl (10.9 MB)\n",
            "\u001b[K     |████████████████████████████████| 10.9 MB 6.7 MB/s \n",
            "\u001b[?25hCollecting python-dotenv>=0.10.4\n",
            "  Downloading python_dotenv-0.19.2-py2.py3-none-any.whl (17 kB)\n",
            "Requirement already satisfied: typing-extensions>=3.7.4.3 in /usr/local/lib/python3.7/dist-packages (from pydantic>=1.7.3->whit-phys-util) (3.10.0.2)\n",
            "Installing collected packages: python-dotenv, pydantic, whit-phys-util\n",
            "Successfully installed pydantic-1.9.0 python-dotenv-0.19.2 whit-phys-util-0.2.7\n"
          ]
        }
      ],
      "source": [
        "!pip install whit-phys-util"
      ]
    },
    {
      "cell_type": "code",
      "source": [
        "import whit_phys_util as buc\n",
        "from sympy import *\n",
        "from sympy.plotting import plot\n",
        "from numpy import arcsin"
      ],
      "metadata": {
        "id": "37ISWHuM8pR2"
      },
      "execution_count": 44,
      "outputs": []
    },
    {
      "cell_type": "code",
      "source": [
        "repo = buc.local_repository(\"https://github.com/jhildebrand22/HW-PS353\")"
      ],
      "metadata": {
        "colab": {
          "base_uri": "https://localhost:8080/"
        },
        "id": "DVLlgGRWS2i6",
        "outputId": "997efbc0-9457-4229-b623-55193382fc40"
      },
      "execution_count": 55,
      "outputs": [
        {
          "output_type": "stream",
          "name": "stdout",
          "text": [
            "Cloning repository from GitHub.\n"
          ]
        }
      ]
    },
    {
      "cell_type": "markdown",
      "source": [
        "# Problem 5.49"
      ],
      "metadata": {
        "id": "-loe2-K5S9K9"
      }
    },
    {
      "cell_type": "markdown",
      "source": [
        "Find the Fourier coefficients $a_n$ and $b_n$ for a triangle wave function. compare the function to the first two terms and first six terms of the Fourier seires. Take $f_{max} = 1$ "
      ],
      "metadata": {
        "id": "cJRTD3qlTCzC"
      }
    },
    {
      "cell_type": "code",
      "source": [
        "var('A tau', positive = True)\n",
        "var('t')\n",
        "#f = ((2*A)/pi)*asin(sin((t+.5)*(2*pi)/(tau))) + 0.5\n",
        "f = Piecewise( (t + A, t < 0), (-t + A, 0<t) )\n",
        "f"
      ],
      "metadata": {
        "colab": {
          "base_uri": "https://localhost:8080/",
          "height": 68
        },
        "id": "XFPJBn2_8-Vx",
        "outputId": "563a626a-73e6-4fc0-8b61-09c21955b182"
      },
      "execution_count": 33,
      "outputs": [
        {
          "output_type": "execute_result",
          "data": {
            "text/latex": "$\\displaystyle \\begin{cases} A + t & \\text{for}\\: t < 0 \\\\A - t & \\text{for}\\: t > 0 \\end{cases}$",
            "text/plain": [
              "Piecewise((A + t, t < 0), (A - t, t > 0))"
            ]
          },
          "metadata": {},
          "execution_count": 33
        }
      ]
    },
    {
      "cell_type": "code",
      "source": [
        "T = 2\n",
        "params = {A: 1, tau: T}\n",
        "fig1 = plot(f.subs(params), (t, -T/2, T/2),line_color=\"red\",label=\"exact\");"
      ],
      "metadata": {
        "colab": {
          "base_uri": "https://localhost:8080/",
          "height": 296
        },
        "id": "XLNTX-vyCHlg",
        "outputId": "d681e4d8-9372-48f8-a8f6-ada3a9605356"
      },
      "execution_count": 40,
      "outputs": [
        {
          "output_type": "display_data",
          "data": {
            "image/png": "[encoded data removed]",
            "text/plain": [
              "<Figure size 432x288 with 1 Axes>"
            ]
          },
          "metadata": {
            "needs_background": "light"
          }
        }
      ]
    },
    {
      "cell_type": "markdown",
      "source": [
        "$$a_0 = \\frac{1}{\\tau} \\int\\limits_{-\\tau/2}^{+\\tau/2} f(t)\\,dt$$"
      ],
      "metadata": {
        "id": "NkqLOxEiKm5Z"
      }
    },
    {
      "cell_type": "code",
      "source": [
        "a0 = integrate(1/tau*f, (t, -tau/2, tau/2))\n",
        "a0"
      ],
      "metadata": {
        "colab": {
          "base_uri": "https://localhost:8080/",
          "height": 47
        },
        "id": "Ln56Ieq6ErH5",
        "outputId": "5186c937-c3cb-44ba-8f66-62b765ca73d6"
      },
      "execution_count": 37,
      "outputs": [
        {
          "output_type": "execute_result",
          "data": {
            "text/latex": "$\\displaystyle A - \\frac{\\tau}{4}$",
            "text/plain": [
              "A - tau/4"
            ]
          },
          "metadata": {},
          "execution_count": 37
        }
      ]
    },
    {
      "cell_type": "markdown",
      "source": [
        "$$a(n) = \\frac{2}{\\tau} \\int\\limits_{-\\tau/2}^{+\\tau/2} f(t) \\cos(n \\omega t)\\,dt$$"
      ],
      "metadata": {
        "id": "q0R56cLhOGy5"
      }
    },
    {
      "cell_type": "code",
      "source": [
        "var('n', positive=True, integer = True)\n",
        "omega = 2*pi/tau\n",
        "\n",
        "def a(n):\n",
        "  return integrate(2/tau*cos(n*omega*t)*f, (t, -tau/2, tau/2))\n",
        "a(n).simplify()"
      ],
      "metadata": {
        "colab": {
          "base_uri": "https://localhost:8080/",
          "height": 54
        },
        "id": "2QV9lVwOKq5M",
        "outputId": "43fdf642-9ee2-41d3-81da-92557bd8af7c"
      },
      "execution_count": 45,
      "outputs": [
        {
          "output_type": "execute_result",
          "data": {
            "text/latex": "$\\displaystyle \\frac{\\tau \\left(1 - \\left(-1\\right)^{n}\\right)}{\\pi^{2} n^{2}}$",
            "text/plain": [
              "tau*(1 - (-1)**n)/(pi**2*n**2)"
            ]
          },
          "metadata": {},
          "execution_count": 45
        }
      ]
    },
    {
      "cell_type": "markdown",
      "source": [
        "$$b(n) = \\frac{2}{\\tau} \\int\\limits_{-\\tau/2}^{+\\tau/2} f(t) \\sin(n \\omega t)\\,dt$$"
      ],
      "metadata": {
        "id": "xrZc7xAyPw-e"
      }
    },
    {
      "cell_type": "code",
      "source": [
        "def b(n):\n",
        "  return integrate(2/tau*sin(n*omega*t)*f, (t, -tau/2, tau/2))\n",
        "b(n).simplify()"
      ],
      "metadata": {
        "colab": {
          "base_uri": "https://localhost:8080/",
          "height": 37
        },
        "id": "0p-3jyT4Obmt",
        "outputId": "74b7b31d-6269-4d13-bb73-1885984ad750"
      },
      "execution_count": 46,
      "outputs": [
        {
          "output_type": "execute_result",
          "data": {
            "text/latex": "$\\displaystyle 0$",
            "text/plain": [
              "0"
            ]
          },
          "metadata": {},
          "execution_count": 46
        }
      ]
    },
    {
      "cell_type": "code",
      "source": [
        "def f_approx(nmax,t):\n",
        "  f_sym = a0 + Sum(a(n)*cos(n*omega*t) + b(n)*sin(n*omega*t), (n, 1, nmax))\n",
        "  return f_sym.doit()"
      ],
      "metadata": {
        "id": "DMKzJN87QfUs"
      },
      "execution_count": 50,
      "outputs": []
    },
    {
      "cell_type": "code",
      "source": [
        "fig2 = plot(f_approx(2,t).subs(params), (t,-T/2,T/2), show=False, label=\"n=2\")\n",
        "fig2.legend = True\n",
        "fig2.extend(fig1)\n",
        "fig2.show()"
      ],
      "metadata": {
        "colab": {
          "base_uri": "https://localhost:8080/",
          "height": 296
        },
        "id": "6qAYt_KlQ0Am",
        "outputId": "d7cf557f-0cbf-4cbc-824d-29e67589792a"
      },
      "execution_count": 53,
      "outputs": [
        {
          "output_type": "display_data",
          "data": {
            "image/png": "[encoded data removed]",
            "text/plain": [
              "<Figure size 432x288 with 1 Axes>"
            ]
          },
          "metadata": {
            "needs_background": "light"
          }
        }
      ]
    },
    {
      "cell_type": "code",
      "source": [
        "fig3 = plot(f_approx(6,t).subs(params), (t,-T/2,T/2), show=False, label=\"n=6\")\n",
        "fig3.legend = True\n",
        "fig3.extend(fig1)\n",
        "fig3.show()"
      ],
      "metadata": {
        "colab": {
          "base_uri": "https://localhost:8080/",
          "height": 296
        },
        "id": "dOAJe5mORPnp",
        "outputId": "21dd811e-fda2-486c-a435-1e1cf861fea1"
      },
      "execution_count": 54,
      "outputs": [
        {
          "output_type": "display_data",
          "data": {
            "image/png": "[encoded data removed]",
            "text/plain": [
              "<Figure size 432x288 with 1 Axes>"
            ]
          },
          "metadata": {
            "needs_background": "light"
          }
        }
      ]
    },
    {
      "cell_type": "code",
      "source": [
        ""
      ],
      "metadata": {
        "id": "Vp5O0wNdRf8X"
      },
      "execution_count": null,
      "outputs": []
    }
  ]
}
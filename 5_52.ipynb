{
  "nbformat": 4,
  "nbformat_minor": 0,
  "metadata": {
    "colab": {
      "name": "5_52.ipynb",
      "provenance": [],
      "authorship_tag": "ABX9TyM+kguqCt4MfygvY7K6GnvP",
      "include_colab_link": true
    },
    "kernelspec": {
      "name": "python3",
      "display_name": "Python 3"
    },
    "language_info": {
      "name": "python"
    }
  },
  "cells": [
    {
      "cell_type": "markdown",
      "metadata": {
        "id": "view-in-github",
        "colab_type": "text"
      },
      "source": [
        "<a href=\"https://colab.research.google.com/github/jhildebrand22/HW-PS353/blob/main/5_52.ipynb\" target=\"_parent\"><img src=\"https://colab.research.google.com/assets/colab-badge.svg\" alt=\"Open In Colab\"/></a>"
      ]
    },
    {
      "cell_type": "code",
      "execution_count": 1,
      "metadata": {
        "colab": {
          "base_uri": "https://localhost:8080/"
        },
        "id": "gfEOEtAMm_Y_",
        "outputId": "97855742-d48c-4155-85e2-c39e063d8d9a"
      },
      "outputs": [
        {
          "output_type": "stream",
          "name": "stdout",
          "text": [
            "Requirement already satisfied: whit-phys-util in /usr/local/lib/python3.7/dist-packages (0.2.7)\n",
            "Requirement already satisfied: pydantic>=1.7.3 in /usr/local/lib/python3.7/dist-packages (from whit-phys-util) (1.9.0)\n",
            "Requirement already satisfied: python-dotenv>=0.10.4 in /usr/local/lib/python3.7/dist-packages (from whit-phys-util) (0.19.2)\n",
            "Requirement already satisfied: typing-extensions>=3.7.4.3 in /usr/local/lib/python3.7/dist-packages (from pydantic>=1.7.3->whit-phys-util) (3.10.0.2)\n"
          ]
        }
      ],
      "source": [
        "!pip install whit-phys-util"
      ]
    },
    {
      "cell_type": "code",
      "source": [
        "import whit_phys_util as buc\n",
        "import numpy as np\n",
        "import pandas as pd\n",
        "import matplotlib.pyplot as plt"
      ],
      "metadata": {
        "id": "F2-udDsxnD7W"
      },
      "execution_count": 2,
      "outputs": []
    },
    {
      "cell_type": "code",
      "source": [
        "repo = buc.local_repository(\"https://github.com/jhildebrand22/HW-PS353\")"
      ],
      "metadata": {
        "colab": {
          "base_uri": "https://localhost:8080/"
        },
        "id": "64e6Cy1FnH48",
        "outputId": "4c54dfb5-3a7b-4fcf-f4c1-afe2c3481249"
      },
      "execution_count": 3,
      "outputs": [
        {
          "output_type": "stream",
          "name": "stdout",
          "text": [
            "Repository exists at this location. Pulling changes from GitHub.\n"
          ]
        }
      ]
    },
    {
      "cell_type": "markdown",
      "source": [
        "# Problem 5.52"
      ],
      "metadata": {
        "id": "e09qkRjjWFra"
      }
    },
    {
      "cell_type": "markdown",
      "source": [
        "Repeat example 5.5 with $\\beta = 0.1$. "
      ],
      "metadata": {
        "id": "78Rk7pyRWJ3d"
      }
    },
    {
      "cell_type": "markdown",
      "source": [
        "Calculate the first six Fourier coefficients $A_n$ for the long term motion of the oscillator. Try at $\\tau = \\tau_0, \\tau = 1.5\\tau_0,\\tau = 2.0\\tau_0, \\tau = 2.5\\tau_0$"
      ],
      "metadata": {
        "id": "W2L9BHynWnuD"
      }
    },
    {
      "cell_type": "code",
      "source": [
        "tau_0 = 1\n",
        "omega_0 = 2*np.pi\n",
        "beta = 0.1\n",
        "delta_tau = 0.25\n",
        "f_max = 1"
      ],
      "metadata": {
        "id": "clYUoAvWWHvV"
      },
      "execution_count": 4,
      "outputs": []
    },
    {
      "cell_type": "code",
      "source": [
        "def f_0(tau):\n",
        "  return (f_max*delta_tau)/tau"
      ],
      "metadata": {
        "id": "xpYaLa5eYkh9"
      },
      "execution_count": 5,
      "outputs": []
    },
    {
      "cell_type": "code",
      "source": [
        "def f_n(n,tau):\n",
        "  return ((2*f_max)/(np.pi*n))*np.sin((np.pi*n*delta_tau)/(tau))"
      ],
      "metadata": {
        "id": "Rik17YmYYp06"
      },
      "execution_count": 6,
      "outputs": []
    },
    {
      "cell_type": "code",
      "source": [
        "def Amp_n(n,omega):\n",
        "    return (f_n(n,2*np.pi/omega))/np.sqrt((((omega_0**2) - (n**2)*(omega**2))**2) + 4*(beta**2)*(n**2)*(omega**2))"
      ],
      "metadata": {
        "id": "un3eNPGHYZ1j"
      },
      "execution_count": 7,
      "outputs": []
    },
    {
      "cell_type": "code",
      "source": [
        "def phase(n,omega):\n",
        "  if (omega_0**2 - n**2*omega**2) == 0:\n",
        "    return (np.pi/2)\n",
        "  else:\n",
        "    return np.arctan((2*beta*n*omega)/(omega_0**2 - n**2*omega**2))"
      ],
      "metadata": {
        "id": "8ehsdV8ScEAx"
      },
      "execution_count": 8,
      "outputs": []
    },
    {
      "cell_type": "code",
      "source": [
        "def x_t(c,t,tau):\n",
        "  y = []\n",
        "  for n in range(6):\n",
        "    y.append(df.iat[n,c]*np.cos(n*(2*(np.pi/tau)*t - phase(n,(2*np.pi/tau)))))\n",
        "\n",
        "  return np.sum(y)\n",
        "    "
      ],
      "metadata": {
        "id": "-965MZC-cp5j"
      },
      "execution_count": 9,
      "outputs": []
    },
    {
      "cell_type": "code",
      "source": [
        "def cases(tau):\n",
        "  As = []\n",
        "  for m in range(6):\n",
        "    if m == 0:\n",
        "      As.append((f_0(tau)/omega_0**2))\n",
        "    else:\n",
        "      As.append(Amp_n(m,(2*np.pi/tau)))\n",
        "  return As"
      ],
      "metadata": {
        "id": "fQ97TvW9kbsj"
      },
      "execution_count": 15,
      "outputs": []
    },
    {
      "cell_type": "code",
      "source": [
        "df = pd.DataFrame()\n",
        "df['A Tau_0'] = cases(tau_0)\n",
        "df['A 1.5*Tau_0'] = cases(1.5*tau_0)\n",
        "df['A 2.0*Tau_0'] = cases(2.0*tau_0)\n",
        "df['A 2.5*Tau_0'] = cases(2.5*tau_0)\n",
        "df"
      ],
      "metadata": {
        "colab": {
          "base_uri": "https://localhost:8080/",
          "height": 238
        },
        "id": "HR3ZM-JLdmjC",
        "outputId": "3a0e70fa-ebdd-4ab3-d29d-547edb35d521"
      },
      "execution_count": 16,
      "outputs": [
        {
          "output_type": "execute_result",
          "data": {
            "text/html": [
              "\n",
              "  <div id=\"df-5fe4074c-17c0-4e95-837b-45438eeffe82\">\n",
              "    <div class=\"colab-df-container\">\n",
              "      <div>\n",
              "<style scoped>\n",
              "    .dataframe tbody tr th:only-of-type {\n",
              "        vertical-align: middle;\n",
              "    }\n",
              "\n",
              "    .dataframe tbody tr th {\n",
              "        vertical-align: top;\n",
              "    }\n",
              "\n",
              "    .dataframe thead th {\n",
              "        text-align: right;\n",
              "    }\n",
              "</style>\n",
              "<table border=\"1\" class=\"dataframe\">\n",
              "  <thead>\n",
              "    <tr style=\"text-align: right;\">\n",
              "      <th></th>\n",
              "      <th>A Tau_0</th>\n",
              "      <th>A 1.5*Tau_0</th>\n",
              "      <th>A 2.0*Tau_0</th>\n",
              "      <th>A 2.5*Tau_0</th>\n",
              "    </tr>\n",
              "  </thead>\n",
              "  <tbody>\n",
              "    <tr>\n",
              "      <th>0</th>\n",
              "      <td>6.332574e-03</td>\n",
              "      <td>0.004222</td>\n",
              "      <td>0.003166</td>\n",
              "      <td>0.002533</td>\n",
              "    </tr>\n",
              "    <tr>\n",
              "      <th>1</th>\n",
              "      <td>3.582245e-01</td>\n",
              "      <td>0.014503</td>\n",
              "      <td>0.008226</td>\n",
              "      <td>0.005932</td>\n",
              "    </tr>\n",
              "    <tr>\n",
              "      <th>2</th>\n",
              "      <td>2.687023e-03</td>\n",
              "      <td>0.008964</td>\n",
              "      <td>0.179112</td>\n",
              "      <td>0.013132</td>\n",
              "    </tr>\n",
              "    <tr>\n",
              "      <th>3</th>\n",
              "      <td>4.750761e-04</td>\n",
              "      <td>0.001791</td>\n",
              "      <td>0.003970</td>\n",
              "      <td>0.009846</td>\n",
              "    </tr>\n",
              "    <tr>\n",
              "      <th>4</th>\n",
              "      <td>3.291276e-20</td>\n",
              "      <td>0.000571</td>\n",
              "      <td>0.001344</td>\n",
              "      <td>0.002456</td>\n",
              "    </tr>\n",
              "    <tr>\n",
              "      <th>5</th>\n",
              "      <td>-9.501991e-05</td>\n",
              "      <td>0.000159</td>\n",
              "      <td>0.000567</td>\n",
              "      <td>0.001075</td>\n",
              "    </tr>\n",
              "  </tbody>\n",
              "</table>\n",
              "</div>\n",
              "      <button class=\"colab-df-convert\" onclick=\"convertToInteractive('df-5fe4074c-17c0-4e95-837b-45438eeffe82')\"\n",
              "              title=\"Convert this dataframe to an interactive table.\"\n",
              "              style=\"display:none;\">\n",
              "        \n",
              "  <svg xmlns=\"http://www.w3.org/2000/svg\" height=\"24px\"viewBox=\"0 0 24 24\"\n",
              "       width=\"24px\">\n",
              "    <path d=\"M0 0h24v24H0V0z\" fill=\"none\"/>\n",
              "    <path d=\"M18.56 5.44l.94 2.06.94-2.06 2.06-.94-2.06-.94-.94-2.06-.94 2.06-2.06.94zm-11 1L8.5 8.5l.94-2.06 2.06-.94-2.06-.94L8.5 2.5l-.94 2.06-2.06.94zm10 10l.94 2.06.94-2.06 2.06-.94-2.06-.94-.94-2.06-.94 2.06-2.06.94z\"/><path d=\"M17.41 7.96l-1.37-1.37c-.4-.4-.92-.59-1.43-.59-.52 0-1.04.2-1.43.59L10.3 9.45l-7.72 7.72c-.78.78-.78 2.05 0 2.83L4 21.41c.39.39.9.59 1.41.59.51 0 1.02-.2 1.41-.59l7.78-7.78 2.81-2.81c.8-.78.8-2.07 0-2.86zM5.41 20L4 18.59l7.72-7.72 1.47 1.35L5.41 20z\"/>\n",
              "  </svg>\n",
              "      </button>\n",
              "      \n",
              "  <style>\n",
              "    .colab-df-container {\n",
              "      display:flex;\n",
              "      flex-wrap:wrap;\n",
              "      gap: 12px;\n",
              "    }\n",
              "\n",
              "    .colab-df-convert {\n",
              "      background-color: #E8F0FE;\n",
              "      border: none;\n",
              "      border-radius: 50%;\n",
              "      cursor: pointer;\n",
              "      display: none;\n",
              "      fill: #1967D2;\n",
              "      height: 32px;\n",
              "      padding: 0 0 0 0;\n",
              "      width: 32px;\n",
              "    }\n",
              "\n",
              "    .colab-df-convert:hover {\n",
              "      background-color: #E2EBFA;\n",
              "      box-shadow: 0px 1px 2px rgba(60, 64, 67, 0.3), 0px 1px 3px 1px rgba(60, 64, 67, 0.15);\n",
              "      fill: #174EA6;\n",
              "    }\n",
              "\n",
              "    [theme=dark] .colab-df-convert {\n",
              "      background-color: #3B4455;\n",
              "      fill: #D2E3FC;\n",
              "    }\n",
              "\n",
              "    [theme=dark] .colab-df-convert:hover {\n",
              "      background-color: #434B5C;\n",
              "      box-shadow: 0px 1px 3px 1px rgba(0, 0, 0, 0.15);\n",
              "      filter: drop-shadow(0px 1px 2px rgba(0, 0, 0, 0.3));\n",
              "      fill: #FFFFFF;\n",
              "    }\n",
              "  </style>\n",
              "\n",
              "      <script>\n",
              "        const buttonEl =\n",
              "          document.querySelector('#df-5fe4074c-17c0-4e95-837b-45438eeffe82 button.colab-df-convert');\n",
              "        buttonEl.style.display =\n",
              "          google.colab.kernel.accessAllowed ? 'block' : 'none';\n",
              "\n",
              "        async function convertToInteractive(key) {\n",
              "          const element = document.querySelector('#df-5fe4074c-17c0-4e95-837b-45438eeffe82');\n",
              "          const dataTable =\n",
              "            await google.colab.kernel.invokeFunction('convertToInteractive',\n",
              "                                                     [key], {});\n",
              "          if (!dataTable) return;\n",
              "\n",
              "          const docLinkHtml = 'Like what you see? Visit the ' +\n",
              "            '<a target=\"_blank\" href=https://colab.research.google.com/notebooks/data_table.ipynb>data table notebook</a>'\n",
              "            + ' to learn more about interactive tables.';\n",
              "          element.innerHTML = '';\n",
              "          dataTable['output_type'] = 'display_data';\n",
              "          await google.colab.output.renderOutput(dataTable, element);\n",
              "          const docLink = document.createElement('div');\n",
              "          docLink.innerHTML = docLinkHtml;\n",
              "          element.appendChild(docLink);\n",
              "        }\n",
              "      </script>\n",
              "    </div>\n",
              "  </div>\n",
              "  "
            ],
            "text/plain": [
              "        A Tau_0  A 1.5*Tau_0  A 2.0*Tau_0  A 2.5*Tau_0\n",
              "0  6.332574e-03     0.004222     0.003166     0.002533\n",
              "1  3.582245e-01     0.014503     0.008226     0.005932\n",
              "2  2.687023e-03     0.008964     0.179112     0.013132\n",
              "3  4.750761e-04     0.001791     0.003970     0.009846\n",
              "4  3.291276e-20     0.000571     0.001344     0.002456\n",
              "5 -9.501991e-05     0.000159     0.000567     0.001075"
            ]
          },
          "metadata": {},
          "execution_count": 16
        }
      ]
    },
    {
      "cell_type": "code",
      "source": [
        "x1 = []\n",
        "x2 = []\n",
        "x3 = []\n",
        "x4 = []\n",
        "\n",
        "df2 = pd.DataFrame()\n",
        "df2['Time (s)'] = np.linspace(0,6,200)\n",
        "for j in df2['Time (s)']:\n",
        "  x1.append(x_t(0,j,tau_0))\n",
        "  x2.append(x_t(1,j,1.5*tau_0))\n",
        "  x3.append(x_t(2,j,2.0*tau_0))\n",
        "  x4.append(x_t(3,j,2.5*tau_0))\n",
        "\n",
        "df2['x(t) Tau_0'] = x1\n",
        "df2['x(t) 1.5*Tau_0'] = x2\n",
        "df2['x(t) 2.0*Tau_0'] = x3\n",
        "df2['x(t) 2.5*Tau_0'] = x4\n",
        "\n",
        "df2"
      ],
      "metadata": {
        "id": "d-reoxoRiijg",
        "colab": {
          "base_uri": "https://localhost:8080/",
          "height": 424
        },
        "outputId": "f0a4f04c-aeed-4257-8e96-58690a64aac8"
      },
      "execution_count": 17,
      "outputs": [
        {
          "output_type": "execute_result",
          "data": {
            "text/html": [
              "\n",
              "  <div id=\"df-edecd7ff-328d-4ee9-bb6b-f870691fa1f2\">\n",
              "    <div class=\"colab-df-container\">\n",
              "      <div>\n",
              "<style scoped>\n",
              "    .dataframe tbody tr th:only-of-type {\n",
              "        vertical-align: middle;\n",
              "    }\n",
              "\n",
              "    .dataframe tbody tr th {\n",
              "        vertical-align: top;\n",
              "    }\n",
              "\n",
              "    .dataframe thead th {\n",
              "        text-align: right;\n",
              "    }\n",
              "</style>\n",
              "<table border=\"1\" class=\"dataframe\">\n",
              "  <thead>\n",
              "    <tr style=\"text-align: right;\">\n",
              "      <th></th>\n",
              "      <th>Time (s)</th>\n",
              "      <th>x(t) Tau_0</th>\n",
              "      <th>x(t) 1.5*Tau_0</th>\n",
              "      <th>x(t) 2.0*Tau_0</th>\n",
              "      <th>x(t) 2.5*Tau_0</th>\n",
              "    </tr>\n",
              "  </thead>\n",
              "  <tbody>\n",
              "    <tr>\n",
              "      <th>0</th>\n",
              "      <td>0.000000</td>\n",
              "      <td>0.009397</td>\n",
              "      <td>0.030142</td>\n",
              "      <td>-0.161873</td>\n",
              "      <td>0.034485</td>\n",
              "    </tr>\n",
              "    <tr>\n",
              "      <th>1</th>\n",
              "      <td>0.030151</td>\n",
              "      <td>0.076581</td>\n",
              "      <td>0.029279</td>\n",
              "      <td>-0.159193</td>\n",
              "      <td>0.033466</td>\n",
              "    </tr>\n",
              "    <tr>\n",
              "      <th>2</th>\n",
              "      <td>0.060302</td>\n",
              "      <td>0.140924</td>\n",
              "      <td>0.027255</td>\n",
              "      <td>-0.150863</td>\n",
              "      <td>0.031326</td>\n",
              "    </tr>\n",
              "    <tr>\n",
              "      <th>3</th>\n",
              "      <td>0.090452</td>\n",
              "      <td>0.200175</td>\n",
              "      <td>0.024283</td>\n",
              "      <td>-0.137091</td>\n",
              "      <td>0.028207</td>\n",
              "    </tr>\n",
              "    <tr>\n",
              "      <th>4</th>\n",
              "      <td>0.120603</td>\n",
              "      <td>0.252330</td>\n",
              "      <td>0.020655</td>\n",
              "      <td>-0.118243</td>\n",
              "      <td>0.024308</td>\n",
              "    </tr>\n",
              "    <tr>\n",
              "      <th>...</th>\n",
              "      <td>...</td>\n",
              "      <td>...</td>\n",
              "      <td>...</td>\n",
              "      <td>...</td>\n",
              "      <td>...</td>\n",
              "    </tr>\n",
              "    <tr>\n",
              "      <th>195</th>\n",
              "      <td>5.879397</td>\n",
              "      <td>-0.239831</td>\n",
              "      <td>0.022066</td>\n",
              "      <td>-0.117240</td>\n",
              "      <td>-0.000396</td>\n",
              "    </tr>\n",
              "    <tr>\n",
              "      <th>196</th>\n",
              "      <td>5.909548</td>\n",
              "      <td>-0.185197</td>\n",
              "      <td>0.025500</td>\n",
              "      <td>-0.136214</td>\n",
              "      <td>-0.000202</td>\n",
              "    </tr>\n",
              "    <tr>\n",
              "      <th>197</th>\n",
              "      <td>5.939698</td>\n",
              "      <td>-0.123899</td>\n",
              "      <td>0.028149</td>\n",
              "      <td>-0.150214</td>\n",
              "      <td>-0.000100</td>\n",
              "    </tr>\n",
              "    <tr>\n",
              "      <th>198</th>\n",
              "      <td>5.969849</td>\n",
              "      <td>-0.058238</td>\n",
              "      <td>0.029752</td>\n",
              "      <td>-0.158848</td>\n",
              "      <td>-0.000082</td>\n",
              "    </tr>\n",
              "    <tr>\n",
              "      <th>199</th>\n",
              "      <td>6.000000</td>\n",
              "      <td>0.009397</td>\n",
              "      <td>0.030142</td>\n",
              "      <td>-0.161873</td>\n",
              "      <td>-0.000131</td>\n",
              "    </tr>\n",
              "  </tbody>\n",
              "</table>\n",
              "<p>200 rows × 5 columns</p>\n",
              "</div>\n",
              "      <button class=\"colab-df-convert\" onclick=\"convertToInteractive('df-edecd7ff-328d-4ee9-bb6b-f870691fa1f2')\"\n",
              "              title=\"Convert this dataframe to an interactive table.\"\n",
              "              style=\"display:none;\">\n",
              "        \n",
              "  <svg xmlns=\"http://www.w3.org/2000/svg\" height=\"24px\"viewBox=\"0 0 24 24\"\n",
              "       width=\"24px\">\n",
              "    <path d=\"M0 0h24v24H0V0z\" fill=\"none\"/>\n",
              "    <path d=\"M18.56 5.44l.94 2.06.94-2.06 2.06-.94-2.06-.94-.94-2.06-.94 2.06-2.06.94zm-11 1L8.5 8.5l.94-2.06 2.06-.94-2.06-.94L8.5 2.5l-.94 2.06-2.06.94zm10 10l.94 2.06.94-2.06 2.06-.94-2.06-.94-.94-2.06-.94 2.06-2.06.94z\"/><path d=\"M17.41 7.96l-1.37-1.37c-.4-.4-.92-.59-1.43-.59-.52 0-1.04.2-1.43.59L10.3 9.45l-7.72 7.72c-.78.78-.78 2.05 0 2.83L4 21.41c.39.39.9.59 1.41.59.51 0 1.02-.2 1.41-.59l7.78-7.78 2.81-2.81c.8-.78.8-2.07 0-2.86zM5.41 20L4 18.59l7.72-7.72 1.47 1.35L5.41 20z\"/>\n",
              "  </svg>\n",
              "      </button>\n",
              "      \n",
              "  <style>\n",
              "    .colab-df-container {\n",
              "      display:flex;\n",
              "      flex-wrap:wrap;\n",
              "      gap: 12px;\n",
              "    }\n",
              "\n",
              "    .colab-df-convert {\n",
              "      background-color: #E8F0FE;\n",
              "      border: none;\n",
              "      border-radius: 50%;\n",
              "      cursor: pointer;\n",
              "      display: none;\n",
              "      fill: #1967D2;\n",
              "      height: 32px;\n",
              "      padding: 0 0 0 0;\n",
              "      width: 32px;\n",
              "    }\n",
              "\n",
              "    .colab-df-convert:hover {\n",
              "      background-color: #E2EBFA;\n",
              "      box-shadow: 0px 1px 2px rgba(60, 64, 67, 0.3), 0px 1px 3px 1px rgba(60, 64, 67, 0.15);\n",
              "      fill: #174EA6;\n",
              "    }\n",
              "\n",
              "    [theme=dark] .colab-df-convert {\n",
              "      background-color: #3B4455;\n",
              "      fill: #D2E3FC;\n",
              "    }\n",
              "\n",
              "    [theme=dark] .colab-df-convert:hover {\n",
              "      background-color: #434B5C;\n",
              "      box-shadow: 0px 1px 3px 1px rgba(0, 0, 0, 0.15);\n",
              "      filter: drop-shadow(0px 1px 2px rgba(0, 0, 0, 0.3));\n",
              "      fill: #FFFFFF;\n",
              "    }\n",
              "  </style>\n",
              "\n",
              "      <script>\n",
              "        const buttonEl =\n",
              "          document.querySelector('#df-edecd7ff-328d-4ee9-bb6b-f870691fa1f2 button.colab-df-convert');\n",
              "        buttonEl.style.display =\n",
              "          google.colab.kernel.accessAllowed ? 'block' : 'none';\n",
              "\n",
              "        async function convertToInteractive(key) {\n",
              "          const element = document.querySelector('#df-edecd7ff-328d-4ee9-bb6b-f870691fa1f2');\n",
              "          const dataTable =\n",
              "            await google.colab.kernel.invokeFunction('convertToInteractive',\n",
              "                                                     [key], {});\n",
              "          if (!dataTable) return;\n",
              "\n",
              "          const docLinkHtml = 'Like what you see? Visit the ' +\n",
              "            '<a target=\"_blank\" href=https://colab.research.google.com/notebooks/data_table.ipynb>data table notebook</a>'\n",
              "            + ' to learn more about interactive tables.';\n",
              "          element.innerHTML = '';\n",
              "          dataTable['output_type'] = 'display_data';\n",
              "          await google.colab.output.renderOutput(dataTable, element);\n",
              "          const docLink = document.createElement('div');\n",
              "          docLink.innerHTML = docLinkHtml;\n",
              "          element.appendChild(docLink);\n",
              "        }\n",
              "      </script>\n",
              "    </div>\n",
              "  </div>\n",
              "  "
            ],
            "text/plain": [
              "     Time (s)  x(t) Tau_0  x(t) 1.5*Tau_0  x(t) 2.0*Tau_0  x(t) 2.5*Tau_0\n",
              "0    0.000000    0.009397        0.030142       -0.161873        0.034485\n",
              "1    0.030151    0.076581        0.029279       -0.159193        0.033466\n",
              "2    0.060302    0.140924        0.027255       -0.150863        0.031326\n",
              "3    0.090452    0.200175        0.024283       -0.137091        0.028207\n",
              "4    0.120603    0.252330        0.020655       -0.118243        0.024308\n",
              "..        ...         ...             ...             ...             ...\n",
              "195  5.879397   -0.239831        0.022066       -0.117240       -0.000396\n",
              "196  5.909548   -0.185197        0.025500       -0.136214       -0.000202\n",
              "197  5.939698   -0.123899        0.028149       -0.150214       -0.000100\n",
              "198  5.969849   -0.058238        0.029752       -0.158848       -0.000082\n",
              "199  6.000000    0.009397        0.030142       -0.161873       -0.000131\n",
              "\n",
              "[200 rows x 5 columns]"
            ]
          },
          "metadata": {},
          "execution_count": 17
        }
      ]
    },
    {
      "cell_type": "code",
      "source": [
        "fig, ax = plt.subplots(4, figsize =(8,10))\n",
        "ax[0].plot(df2['Time (s)'], df2['x(t) Tau_0'])\n",
        "ax[1].plot(df2['Time (s)'], df2['x(t) 1.5*Tau_0'])\n",
        "ax[2].plot(df2['Time (s)'], df2['x(t) 2.0*Tau_0'])\n",
        "ax[3].plot(df2['Time (s)'], df2['x(t) 2.5*Tau_0'])\n",
        "\n",
        "ax[3].set_xlabel('Time')\n",
        "\n",
        "ax[0].set_ylabel('x(t)')\n",
        "ax[1].set_ylabel('x(t)')\n",
        "ax[2].set_ylabel('x(t)')\n",
        "ax[3].set_ylabel('x(t)')\n",
        "\n",
        "ax[1].set_ylim(-.3,.3)\n",
        "ax[2].set_ylim(-.3,.3)\n",
        "ax[3].set_ylim(-.3,.3);"
      ],
      "metadata": {
        "colab": {
          "base_uri": "https://localhost:8080/",
          "height": 606
        },
        "id": "hzwxMaiO0SCV",
        "outputId": "8b17be85-2a7a-4a0d-c208-8bcbf3ed2986"
      },
      "execution_count": 18,
      "outputs": [
        {
          "output_type": "display_data",
          "data": {
            "image/png": "[encoded data removed]",
            "text/plain": [
              "<Figure size 576x720 with 4 Axes>"
            ]
          },
          "metadata": {
            "needs_background": "light"
          }
        }
      ]
    },
    {
      "cell_type": "markdown",
      "source": [
        "Comparison to example:\n",
        "\n",
        "The problem has less damping than the example, and we see the amplitude of the resonance case is greater than that of the example. The less damping also allows for higher amplitudes in the off-resonance cases, as we see more oscillation or movement in the case where $\\beta = 0.1$. "
      ],
      "metadata": {
        "id": "DBfLdlRFB5AC"
      }
    },
    {
      "cell_type": "code",
      "source": [
        ""
      ],
      "metadata": {
        "id": "Yls0Q6w8AxTH"
      },
      "execution_count": 13,
      "outputs": []
    }
  ]
}
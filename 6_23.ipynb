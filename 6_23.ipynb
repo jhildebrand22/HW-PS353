{
  "nbformat": 4,
  "nbformat_minor": 0,
  "metadata": {
    "colab": {
      "name": "6_23.ipynb",
      "provenance": [],
      "authorship_tag": "ABX9TyP+yQuHaNseyYr7KenKGjg8",
      "include_colab_link": true
    },
    "kernelspec": {
      "name": "python3",
      "display_name": "Python 3"
    },
    "language_info": {
      "name": "python"
    }
  },
  "cells": [
    {
      "cell_type": "markdown",
      "metadata": {
        "id": "view-in-github",
        "colab_type": "text"
      },
      "source": [
        "<a href=\"https://colab.research.google.com/github/jhildebrand22/HW-PS353/blob/main/6_23.ipynb\" target=\"_parent\"><img src=\"https://colab.research.google.com/assets/colab-badge.svg\" alt=\"Open In Colab\"/></a>"
      ]
    },
    {
      "cell_type": "code",
      "source": [
        "!pip install whit_phys_util"
      ],
      "metadata": {
        "colab": {
          "base_uri": "https://localhost:8080/"
        },
        "id": "bq7Yx0L0avPW",
        "outputId": "86e270a6-2d51-40c1-ff23-07d450d69a8e"
      },
      "execution_count": 45,
      "outputs": [
        {
          "output_type": "stream",
          "name": "stdout",
          "text": [
            "Collecting whit_phys_util\n",
            "  Downloading whit_phys_util-0.2.7-py3-none-any.whl (11 kB)\n",
            "Collecting python-dotenv>=0.10.4\n",
            "  Downloading python_dotenv-0.19.2-py2.py3-none-any.whl (17 kB)\n",
            "Collecting pydantic>=1.7.3\n",
            "  Downloading pydantic-1.9.0-cp37-cp37m-manylinux_2_17_x86_64.manylinux2014_x86_64.whl (10.9 MB)\n",
            "\u001b[K     |████████████████████████████████| 10.9 MB 16.4 MB/s \n",
            "\u001b[?25hRequirement already satisfied: typing-extensions>=3.7.4.3 in /usr/local/lib/python3.7/dist-packages (from pydantic>=1.7.3->whit_phys_util) (3.10.0.2)\n",
            "Installing collected packages: python-dotenv, pydantic, whit-phys-util\n",
            "Successfully installed pydantic-1.9.0 python-dotenv-0.19.2 whit-phys-util-0.2.7\n"
          ]
        }
      ]
    },
    {
      "cell_type": "code",
      "execution_count": 47,
      "metadata": {
        "id": "kZtGAxzVdJ2t",
        "colab": {
          "base_uri": "https://localhost:8080/"
        },
        "outputId": "6abef25e-095f-4adf-ba20-52713a80d716"
      },
      "outputs": [
        {
          "output_type": "stream",
          "name": "stdout",
          "text": [
            "Mounted at /content/drive\n"
          ]
        }
      ],
      "source": [
        "from sympy import *\n",
        "from sympy.plotting import plot\n",
        "from scipy.integrate import quad\n",
        "import whit_phys_util as buc"
      ]
    },
    {
      "cell_type": "code",
      "source": [
        "repo = buc.local_repository(\"https://github.com/jhildebrand22/HW-PS353\")"
      ],
      "metadata": {
        "colab": {
          "base_uri": "https://localhost:8080/"
        },
        "id": "MreXLNz7azfH",
        "outputId": "78022673-e84b-44c5-9c2a-2e40b76321dc"
      },
      "execution_count": 48,
      "outputs": [
        {
          "output_type": "stream",
          "name": "stdout",
          "text": [
            "Cloning repository from GitHub.\n"
          ]
        }
      ]
    },
    {
      "cell_type": "code",
      "source": [
        "var('D V v_0', positive=True)\n",
        "var('x')\n",
        "k = V/v_0\n",
        "l = (2 - sqrt(4 + 2*D**2*k**2))/(k*D**2)"
      ],
      "metadata": {
        "id": "TvNrkoDSdLUQ"
      },
      "execution_count": 26,
      "outputs": []
    },
    {
      "cell_type": "code",
      "source": [
        "def y(x):\n",
        "  return l*x*(D-x)"
      ],
      "metadata": {
        "id": "6iOkYwUbXv22"
      },
      "execution_count": 22,
      "outputs": []
    },
    {
      "cell_type": "code",
      "source": [
        "D_val = 2000\n",
        "V_val = .5\n",
        "v0 = 500\n",
        "params = {D: D_val, V: V_val , v_0:v0 }"
      ],
      "metadata": {
        "id": "cC7G7K8nducU"
      },
      "execution_count": 40,
      "outputs": []
    },
    {
      "cell_type": "code",
      "source": [
        "best_y = -y(x).subs(params)\n",
        "fig=plot(best_y, (x,0,2000),xlabel=\"East (mi)\", ylabel=\"North (mi)\")"
      ],
      "metadata": {
        "id": "IwL2gQMoeO7E",
        "colab": {
          "base_uri": "https://localhost:8080/",
          "height": 297
        },
        "outputId": "6cd0f0c5-d525-4639-a172-0458adcf3530"
      },
      "execution_count": 33,
      "outputs": [
        {
          "output_type": "display_data",
          "data": {
            "image/png": "[encoded data removed]",
            "text/plain": [
              "<Figure size 432x288 with 1 Axes>"
            ]
          },
          "metadata": {
            "needs_background": "light"
          }
        }
      ]
    },
    {
      "cell_type": "code",
      "source": [
        "max_north = best_y.subs({x: D_val/2})\n",
        "print(f\"The plane travels {max_north:.0f} miles north\")"
      ],
      "metadata": {
        "colab": {
          "base_uri": "https://localhost:8080/"
        },
        "id": "1vYM4cyLWMS9",
        "outputId": "f42ae9c8-24a7-4fdf-98e5-76f4afaa2037"
      },
      "execution_count": 38,
      "outputs": [
        {
          "output_type": "stream",
          "name": "stdout",
          "text": [
            "The plane travels 366 miles north\n"
          ]
        }
      ]
    },
    {
      "cell_type": "code",
      "source": [
        "t_straight = D_val/v0"
      ],
      "metadata": {
        "id": "7kwdpeV4alIX"
      },
      "execution_count": 43,
      "outputs": []
    },
    {
      "cell_type": "code",
      "source": [
        "f = (1 + 1/2*best_y.diff(x)**2)/(1+V_val/v0*best_y)\n",
        "t_best = 1/v0*quad(lambdify(x, f), 0, D_val)[0]\n",
        "t_best"
      ],
      "metadata": {
        "colab": {
          "base_uri": "https://localhost:8080/"
        },
        "id": "5Qa5b0AkZJHp",
        "outputId": "d2385955-83b5-4794-b8cf-eb5a6f7a4972"
      },
      "execution_count": 41,
      "outputs": [
        {
          "output_type": "execute_result",
          "data": {
            "text/plain": [
              "3.5557726855385208"
            ]
          },
          "metadata": {},
          "execution_count": 41
        }
      ]
    },
    {
      "cell_type": "code",
      "source": [
        "delta_t = (t_straight - t_best)*60\n",
        "print(f\"The plane saves {delta_t:.1f} minutes by following the parabolic path\")"
      ],
      "metadata": {
        "colab": {
          "base_uri": "https://localhost:8080/"
        },
        "id": "LbferrStaUwp",
        "outputId": "6fa8761d-d3c7-43ae-9d8c-91364224aad6"
      },
      "execution_count": 44,
      "outputs": [
        {
          "output_type": "stream",
          "name": "stdout",
          "text": [
            "The plane saves 26.7 minutes by following the parabolic path\n"
          ]
        }
      ]
    },
    {
      "cell_type": "code",
      "source": [
        ""
      ],
      "metadata": {
        "id": "XCnBVEtyahZu"
      },
      "execution_count": null,
      "outputs": []
    }
  ]
}
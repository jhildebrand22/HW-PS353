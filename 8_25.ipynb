{
  "nbformat": 4,
  "nbformat_minor": 0,
  "metadata": {
    "colab": {
      "name": "8_25.ipynb",
      "provenance": [],
      "authorship_tag": "ABX9TyMxNCI344raKYVTFHiN7qWD",
      "include_colab_link": true
    },
    "kernelspec": {
      "name": "python3",
      "display_name": "Python 3"
    },
    "language_info": {
      "name": "python"
    }
  },
  "cells": [
    {
      "cell_type": "markdown",
      "metadata": {
        "id": "view-in-github",
        "colab_type": "text"
      },
      "source": [
        "<a href=\"https://colab.research.google.com/github/jhildebrand22/HW-PS353/blob/main/8_25.ipynb\" target=\"_parent\"><img src=\"https://colab.research.google.com/assets/colab-badge.svg\" alt=\"Open In Colab\"/></a>"
      ]
    },
    {
      "cell_type": "code",
      "execution_count": null,
      "metadata": {
        "id": "6UaB-7tuPCLm"
      },
      "outputs": [],
      "source": [
        "#!pip install whit_phys_util"
      ]
    },
    {
      "cell_type": "code",
      "source": [
        "import sympy as sp\n",
        "import numpy as np\n",
        "from scipy.integrate import solve_ivp"
      ],
      "metadata": {
        "id": "RhEZjKCZP67x"
      },
      "execution_count": 1,
      "outputs": []
    },
    {
      "cell_type": "code",
      "source": [
        "sp.var('r m l k');\n",
        "params = {m:1, l:1, k:1}"
      ],
      "metadata": {
        "id": "sHBeazF6QCOm"
      },
      "execution_count": 31,
      "outputs": []
    },
    {
      "cell_type": "code",
      "source": [
        "F = -k/r**(5/2)\n",
        "U_r = -sp.integrate(F,r)\n",
        "U_eff = U_r + l**2/(2*m*r**2)\n",
        "dUdr = sp.diff(U_eff,r)\n",
        "U_r"
      ],
      "metadata": {
        "colab": {
          "base_uri": "https://localhost:8080/",
          "height": 52
        },
        "id": "VhkvqAafQOhF",
        "outputId": "904f78ea-97ac-4bfb-8bc2-21167fd00b38"
      },
      "execution_count": 36,
      "outputs": [
        {
          "output_type": "execute_result",
          "data": {
            "text/plain": [
              "-0.666666666666667*k*r**(-1.5)"
            ],
            "text/latex": "$\\displaystyle - \\frac{0.666666666666667 k}{r^{1.5}}$"
          },
          "metadata": {},
          "execution_count": 36
        }
      ]
    },
    {
      "cell_type": "code",
      "source": [
        "r_0 = sp.solve(dUdr,r)\n",
        "r_0"
      ],
      "metadata": {
        "colab": {
          "base_uri": "https://localhost:8080/"
        },
        "id": "xcNIcyVdQv9Y",
        "outputId": "a4827f03-c262-4fff-c46d-b805e1991d49"
      },
      "execution_count": 27,
      "outputs": [
        {
          "output_type": "execute_result",
          "data": {
            "text/plain": [
              "[l**4/(k**2*m**2)]"
            ]
          },
          "metadata": {},
          "execution_count": 27
        }
      ]
    },
    {
      "cell_type": "code",
      "source": [
        "r_n = np.linspace(0,5,501)\n",
        "fig1 = sp.plot(U_eff.subs(params), (r,0,5),ylim=[-0.5,0.5])"
      ],
      "metadata": {
        "colab": {
          "base_uri": "https://localhost:8080/",
          "height": 297
        },
        "id": "giFhpKBySaH8",
        "outputId": "db74aa11-f47a-49f2-c56e-5ce93475f7f4"
      },
      "execution_count": 39,
      "outputs": [
        {
          "output_type": "display_data",
          "data": {
            "text/plain": [
              "<Figure size 432x288 with 1 Axes>"
            ],
            "image/png": "[encoded data removed]"
          },
          "metadata": {
            "needs_background": "light"
          }
        }
      ]
    },
    {
      "cell_type": "code",
      "source": [
        ""
      ],
      "metadata": {
        "id": "YHsxdXV8T5Mo"
      },
      "execution_count": null,
      "outputs": []
    }
  ]
}
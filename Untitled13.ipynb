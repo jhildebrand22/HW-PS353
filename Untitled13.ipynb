{
  "nbformat": 4,
  "nbformat_minor": 0,
  "metadata": {
    "colab": {
      "name": "Untitled13.ipynb",
      "provenance": [],
      "authorship_tag": "ABX9TyM82jCqrPOoeCO5ON4PJ65D",
      "include_colab_link": true
    },
    "kernelspec": {
      "name": "python3",
      "display_name": "Python 3"
    },
    "language_info": {
      "name": "python"
    }
  },
  "cells": [
    {
      "cell_type": "markdown",
      "metadata": {
        "id": "view-in-github",
        "colab_type": "text"
      },
      "source": [
        "<a href=\"https://colab.research.google.com/github/jhildebrand22/HW-PS353/blob/main/Untitled13.ipynb\" target=\"_parent\"><img src=\"https://colab.research.google.com/assets/colab-badge.svg\" alt=\"Open In Colab\"/></a>"
      ]
    },
    {
      "cell_type": "code",
      "execution_count": null,
      "metadata": {
        "id": "Z_MwxLJ5FxlN"
      },
      "outputs": [],
      "source": [
        "!pip install whit_phys_util 1> /dev/null"
      ]
    },
    {
      "cell_type": "code",
      "source": [
        "import whit_phys_util as buc\n",
        "from sympy import *\n",
        "import numpy as np\n",
        "import scipy.constants as sc\n",
        "import matplotlib.pyplot as plt"
      ],
      "metadata": {
        "colab": {
          "base_uri": "https://localhost:8080/"
        },
        "id": "sdXPN8IcGJoc",
        "outputId": "8d8c7bec-3624-489f-98a7-fdb3e4b5da15"
      },
      "execution_count": null,
      "outputs": [
        {
          "output_type": "stream",
          "name": "stdout",
          "text": [
            "Mounted at /content/drive\n"
          ]
        }
      ]
    },
    {
      "cell_type": "code",
      "source": [
        "repo = buc.local_repository('https://github.com/jhildebrand22/HW-PS353')"
      ],
      "metadata": {
        "id": "mOSzhriQ2hgx",
        "outputId": "7d7d7fb8-457a-4548-966e-fa50d4f113c1",
        "colab": {
          "base_uri": "https://localhost:8080/"
        }
      },
      "execution_count": null,
      "outputs": [
        {
          "output_type": "stream",
          "name": "stdout",
          "text": [
            "Cloning repository from GitHub.\n"
          ]
        }
      ]
    },
    {
      "cell_type": "code",
      "source": [
        "var('hbar theta p m delta E phi',positive=True);"
      ],
      "metadata": {
        "id": "rqqSALYIIfkE"
      },
      "execution_count": null,
      "outputs": []
    },
    {
      "cell_type": "code",
      "source": [
        "m_n = 1.675e-27\n",
        "d = [-30*pi/180, 150*pi/180]\n",
        "E_n = 10e6*1.6e-19 #J\n",
        "P_n = [1,cos(theta)] \n",
        "params = {E:E_n, m:m_n, hbar:sc.hbar}"
      ],
      "metadata": {
        "id": "YvLMxVAyGxXp"
      },
      "execution_count": null,
      "outputs": []
    },
    {
      "cell_type": "code",
      "source": [
        "f_theta = (hbar/p)*sum((2*n+1)*exp(I*d[n])*sin(d[n])*P_n[n] for n in range(len(P_n)))\n",
        "f_theta.simplify()"
      ],
      "metadata": {
        "colab": {
          "base_uri": "https://localhost:8080/",
          "height": 62
        },
        "id": "buaD8OV6HJnF",
        "outputId": "1bbcfe6f-0202-4dd3-fe17-dc041b38e3ec"
      },
      "execution_count": null,
      "outputs": [
        {
          "output_type": "execute_result",
          "data": {
            "text/plain": [
              "(-1)**(5/6)*hbar*(3*cos(theta) + 1)/(2*p)"
            ],
            "text/latex": "$\\displaystyle \\frac{\\left(-1\\right)^{\\frac{5}{6}} \\hbar \\left(3 \\cos{\\left(\\theta \\right)} + 1\\right)}{2 p}$"
          },
          "metadata": {},
          "execution_count": 6
        }
      ]
    },
    {
      "cell_type": "code",
      "source": [
        "p = sqrt(2*E*m)\n",
        "f_theta = (hbar/p)*sum((2*n+1)*exp(I*d[n])*sin(d[n])*P_n[n] for n in range(len(P_n)))\n",
        "f_theta"
      ],
      "metadata": {
        "colab": {
          "base_uri": "https://localhost:8080/",
          "height": 82
        },
        "id": "TfOLhAZXJu_0",
        "outputId": "69870716-61b6-4e49-eef3-73045e633c65"
      },
      "execution_count": null,
      "outputs": [
        {
          "output_type": "execute_result",
          "data": {
            "text/plain": [
              "sqrt(2)*hbar*(3*exp(5*I*pi/6)*cos(theta)/2 - exp(-I*pi/6)/2)/(2*sqrt(E)*sqrt(m))"
            ],
            "text/latex": "$\\displaystyle \\frac{\\sqrt{2} \\hbar \\left(\\frac{3 e^{\\frac{5 i \\pi}{6}} \\cos{\\left(\\theta \\right)}}{2} - \\frac{e^{- \\frac{i \\pi}{6}}}{2}\\right)}{2 \\sqrt{E} \\sqrt{m}}$"
          },
          "metadata": {},
          "execution_count": 7
        }
      ]
    },
    {
      "cell_type": "code",
      "source": [
        "b = f_theta*conjugate(f_theta)\n",
        "dxsection = b.simplify()\n",
        "dxsection"
      ],
      "metadata": {
        "colab": {
          "base_uri": "https://localhost:8080/",
          "height": 56
        },
        "id": "6kXTyMFnLOW0",
        "outputId": "4d4987bf-4730-45b2-c25f-dfe1ac724529"
      },
      "execution_count": null,
      "outputs": [
        {
          "output_type": "execute_result",
          "data": {
            "text/plain": [
              "hbar**2*(3*cos(theta) + 1)**2/(8*E*m)"
            ],
            "text/latex": "$\\displaystyle \\frac{\\hbar^{2} \\left(3 \\cos{\\left(\\theta \\right)} + 1\\right)^{2}}{8 E m}$"
          },
          "metadata": {},
          "execution_count": 8
        }
      ]
    },
    {
      "cell_type": "code",
      "source": [
        "dxs_num = lambdify(theta, dxsection.subs(params), 'numpy')\n",
        "theta_n = np.linspace(0,np.pi,1001)"
      ],
      "metadata": {
        "id": "9iAPLFZtUmuL"
      },
      "execution_count": null,
      "outputs": []
    },
    {
      "cell_type": "code",
      "source": [
        "fig,ax = plt.subplots()\n",
        "ax.plot(theta_n,dxs_num(theta_n))\n",
        "ax.set_xlabel('theta (rad)')\n",
        "ax.set_ylabel('Differential cross section (m^2)');"
      ],
      "metadata": {
        "id": "2dQLjeAw3Kp2",
        "outputId": "f3bbb801-46b2-4f1c-ee6c-02004e1d6598",
        "colab": {
          "base_uri": "https://localhost:8080/",
          "height": 290
        }
      },
      "execution_count": null,
      "outputs": [
        {
          "output_type": "display_data",
          "data": {
            "text/plain": [
              "<Figure size 432x288 with 1 Axes>"
            ],
            "image/png": "[encoded data removed]"
          },
          "metadata": {
            "needs_background": "light"
          }
        }
      ]
    },
    {
      "cell_type": "code",
      "source": [
        "dsigma = dxsection*sin(theta)\n",
        "sigma_almost = integrate(dsigma,(theta,0,pi))\n",
        "sigma = integrate(sigma_almost,(phi,0,2*pi))\n",
        "sigma"
      ],
      "metadata": {
        "colab": {
          "base_uri": "https://localhost:8080/",
          "height": 54
        },
        "id": "g531wi0fdp3F",
        "outputId": "39a8018a-6bb3-4a24-f1fc-7e42c414ad4b"
      },
      "execution_count": null,
      "outputs": [
        {
          "output_type": "execute_result",
          "data": {
            "text/plain": [
              "2*pi*hbar**2/(E*m)"
            ],
            "text/latex": "$\\displaystyle \\frac{2 \\pi \\hbar^{2}}{E m}$"
          },
          "metadata": {},
          "execution_count": 22
        }
      ]
    },
    {
      "cell_type": "code",
      "source": [
        "sigma.subs(params)"
      ],
      "metadata": {
        "colab": {
          "base_uri": "https://localhost:8080/",
          "height": 38
        },
        "id": "RSrpgu39eEHj",
        "outputId": "94037a96-19c9-4569-a8ea-99756ae907e8"
      },
      "execution_count": null,
      "outputs": [
        {
          "output_type": "execute_result",
          "data": {
            "text/plain": [
              "8.29941581025014e-30*pi"
            ],
            "text/latex": "$\\displaystyle 8.29941581025014 \\cdot 10^{-30} \\pi$"
          },
          "metadata": {},
          "execution_count": 13
        }
      ]
    },
    {
      "cell_type": "code",
      "source": [
        "print(f'The total scattering cross section is {sigma.subs(params)} m^2')"
      ],
      "metadata": {
        "id": "Aeu2itjeemkd",
        "outputId": "79c04dc8-04c5-4b0b-b7ab-545533fe0c69",
        "colab": {
          "base_uri": "https://localhost:8080/"
        }
      },
      "execution_count": null,
      "outputs": [
        {
          "output_type": "stream",
          "name": "stdout",
          "text": [
            "The total scattering cross section is 8.29941581025014e-30*pi m^2\n"
          ]
        }
      ]
    },
    {
      "cell_type": "code",
      "source": [
        ""
      ],
      "metadata": {
        "id": "ZHMa9QUEeW9M"
      },
      "execution_count": null,
      "outputs": []
    }
  ]
}